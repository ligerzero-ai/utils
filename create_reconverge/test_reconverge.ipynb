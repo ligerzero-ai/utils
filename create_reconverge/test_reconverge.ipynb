{
 "cells": [
  {
   "cell_type": "code",
   "execution_count": 1,
   "metadata": {},
   "outputs": [],
   "source": [
    "import pandas as pd\n",
    "import os\n",
    "import shutil"
   ]
  },
  {
   "cell_type": "code",
   "execution_count": 7,
   "metadata": {},
   "outputs": [
    {
     "data": {
      "text/plain": [
       "'/scratch/pawsey0380/hmai/2023_11_05_Reconverge_StaticUnrelaxed_KPOINTS/2023_11_05_Reconverge_StaticUnrelaxed/S9_RA110_S2_21/P/S9_RA110_S2_21-P-33/'"
      ]
     },
     "execution_count": 7,
     "metadata": {},
     "output_type": "execute_result"
    }
   ],
   "source": [
    "f\"{path}{os.sep}\""
   ]
  },
  {
   "cell_type": "code",
   "execution_count": 18,
   "metadata": {},
   "outputs": [
    {
     "data": {
      "text/plain": [
       "'S9_RA110_S2_21/Hg/S9_RA110_S2_21-Hg-28'"
      ]
     },
     "execution_count": 18,
     "metadata": {},
     "output_type": "execute_result"
    }
   ],
   "source": [
    "target_dir_to_split = \"/scratch/pawsey0380/hmai/2023_11_05_Reconverge_StaticUnrelaxed_KPOINTS/2023_11_05_Reconverge_StaticUnrelaxed/\"\n",
    "path = \"/scratch/pawsey0380/hmai/2023_11_05_Reconverge_StaticUnrelaxed_KPOINTS/2023_11_05_Reconverge_StaticUnrelaxed/S9_RA110_S2_21/Hg/S9_RA110_S2_21-Hg-28\"\n",
    "directory_structure = os.path.relpath(path, target_dir_to_split)\n",
    "directory_structure"
   ]
  },
  {
   "cell_type": "code",
   "execution_count": null,
   "metadata": {},
   "outputs": [],
   "source": []
  },
  {
   "cell_type": "code",
   "execution_count": 15,
   "metadata": {},
   "outputs": [
    {
     "data": {
      "text/plain": [
       "'/scratch/pawsey0380/hmai/2023_11_05_Reconverge_StaticUnrelaxed_KPOINTS/2023_11_05_Reconverge_StaticUnrelaxed/S9_RA110_S2_21/Hg/S9_RA110_S2_21-Hg-28'"
      ]
     },
     "execution_count": 15,
     "metadata": {},
     "output_type": "execute_result"
    }
   ],
   "source": [
    "path"
   ]
  },
  {
   "cell_type": "code",
   "execution_count": 24,
   "metadata": {},
   "outputs": [
    {
     "name": "stdout",
     "output_type": "stream",
     "text": [
      "Copying /scratch/pawsey0380/hmai/2023_11_05_Reconverge_StaticUnrelaxed_KPOINTS/2023_11_05_Reconverge_StaticUnrelaxed/S9_RA110_S2_21/Hg/S9_RA110_S2_21-Hg-28 to /scratch/pawsey0380/hmai/2023_11_05_Reconverge_StaticUnrelaxed_KPOINTS/2023_11_14_Unconverged_copy/S9_RA110_S2_21/Hg/S9_RA110_S2_21-Hg-28\n",
      "Copying /scratch/pawsey0380/hmai/2023_11_05_Reconverge_StaticUnrelaxed_KPOINTS/2023_11_05_Reconverge_StaticUnrelaxed/S9_RA110_S2_21/Hg/S9_RA110_S2_21-Hg-24 to /scratch/pawsey0380/hmai/2023_11_05_Reconverge_StaticUnrelaxed_KPOINTS/2023_11_14_Unconverged_copy/S9_RA110_S2_21/Hg/S9_RA110_S2_21-Hg-24\n"
     ]
    },
    {
     "name": "stdout",
     "output_type": "stream",
     "text": [
      "Copying /scratch/pawsey0380/hmai/2023_11_05_Reconverge_StaticUnrelaxed_KPOINTS/2023_11_05_Reconverge_StaticUnrelaxed/S9_RA110_S2_21/Zr/S9_RA110_S2_21-Zr-25 to /scratch/pawsey0380/hmai/2023_11_05_Reconverge_StaticUnrelaxed_KPOINTS/2023_11_14_Unconverged_copy/S9_RA110_S2_21/Zr/S9_RA110_S2_21-Zr-25\n",
      "Copying /scratch/pawsey0380/hmai/2023_11_05_Reconverge_StaticUnrelaxed_KPOINTS/2023_11_05_Reconverge_StaticUnrelaxed/S9_RA110_S2_21/Au/S9_RA110_S2_21-Au-35 to /scratch/pawsey0380/hmai/2023_11_05_Reconverge_StaticUnrelaxed_KPOINTS/2023_11_14_Unconverged_copy/S9_RA110_S2_21/Au/S9_RA110_S2_21-Au-35\n",
      "Copying /scratch/pawsey0380/hmai/2023_11_05_Reconverge_StaticUnrelaxed_KPOINTS/2023_11_05_Reconverge_StaticUnrelaxed/S9_RA110_S2_21/Ir/S9_RA110_S2_21-Ir-34 to /scratch/pawsey0380/hmai/2023_11_05_Reconverge_StaticUnrelaxed_KPOINTS/2023_11_14_Unconverged_copy/S9_RA110_S2_21/Ir/S9_RA110_S2_21-Ir-34\n",
      "Copying /scratch/pawsey0380/hmai/2023_11_05_Reconverge_StaticUnrelaxed_KPOINTS/2023_11_05_Reconverge_StaticUnrelaxed/S9_RA110_S2_21/Pd/S9_RA110_S2_21-Pd-23 to /scratch/pawsey0380/hmai/2023_11_05_Reconverge_StaticUnrelaxed_KPOINTS/2023_11_14_Unconverged_copy/S9_RA110_S2_21/Pd/S9_RA110_S2_21-Pd-23\n",
      "Copying /scratch/pawsey0380/hmai/2023_11_05_Reconverge_StaticUnrelaxed_KPOINTS/2023_11_05_Reconverge_StaticUnrelaxed/S9_RA110_S2_21/Tl/S9_RA110_S2_21-Tl-34 to /scratch/pawsey0380/hmai/2023_11_05_Reconverge_StaticUnrelaxed_KPOINTS/2023_11_14_Unconverged_copy/S9_RA110_S2_21/Tl/S9_RA110_S2_21-Tl-34\n",
      "Copying /scratch/pawsey0380/hmai/2023_11_05_Reconverge_StaticUnrelaxed_KPOINTS/2023_11_05_Reconverge_StaticUnrelaxed/S9_RA110_S2_21/Na/S9_RA110_S2_21-Na-28 to /scratch/pawsey0380/hmai/2023_11_05_Reconverge_StaticUnrelaxed_KPOINTS/2023_11_14_Unconverged_copy/S9_RA110_S2_21/Na/S9_RA110_S2_21-Na-28\n",
      "Copying /scratch/pawsey0380/hmai/2023_11_05_Reconverge_StaticUnrelaxed_KPOINTS/2023_11_05_Reconverge_StaticUnrelaxed/S9_RA110_S2_21/Br/S9_RA110_S2_21-Br-36 to /scratch/pawsey0380/hmai/2023_11_05_Reconverge_StaticUnrelaxed_KPOINTS/2023_11_14_Unconverged_copy/S9_RA110_S2_21/Br/S9_RA110_S2_21-Br-36\n",
      "Copying /scratch/pawsey0380/hmai/2023_11_05_Reconverge_StaticUnrelaxed_KPOINTS/2023_11_05_Reconverge_StaticUnrelaxed/S9_RA110_S2_21/Tm/S9_RA110_S2_21-Tm-31 to /scratch/pawsey0380/hmai/2023_11_05_Reconverge_StaticUnrelaxed_KPOINTS/2023_11_14_Unconverged_copy/S9_RA110_S2_21/Tm/S9_RA110_S2_21-Tm-31\n",
      "Copying /scratch/pawsey0380/hmai/2023_11_05_Reconverge_StaticUnrelaxed_KPOINTS/2023_11_05_Reconverge_StaticUnrelaxed/S9_RA110_S2_21/Os/S9_RA110_S2_21-Os-28 to /scratch/pawsey0380/hmai/2023_11_05_Reconverge_StaticUnrelaxed_KPOINTS/2023_11_14_Unconverged_copy/S9_RA110_S2_21/Os/S9_RA110_S2_21-Os-28\n",
      "Copying /scratch/pawsey0380/hmai/2023_11_05_Reconverge_StaticUnrelaxed_KPOINTS/2023_11_05_Reconverge_StaticUnrelaxed/S9_RA110_S2_21/Lu/S9_RA110_S2_21-Lu-36 to /scratch/pawsey0380/hmai/2023_11_05_Reconverge_StaticUnrelaxed_KPOINTS/2023_11_14_Unconverged_copy/S9_RA110_S2_21/Lu/S9_RA110_S2_21-Lu-36\n",
      "Copying /scratch/pawsey0380/hmai/2023_11_05_Reconverge_StaticUnrelaxed_KPOINTS/2023_11_05_Reconverge_StaticUnrelaxed/S9_RA110_S2_21/P/S9_RA110_S2_21-P-33 to /scratch/pawsey0380/hmai/2023_11_05_Reconverge_StaticUnrelaxed_KPOINTS/2023_11_14_Unconverged_copy/S9_RA110_S2_21/P/S9_RA110_S2_21-P-33\n",
      "Move/Copy to /scratch/pawsey0380/hmai/2023_11_05_Reconverge_StaticUnrelaxed_KPOINTS/2023_11_14_Unconverged_copy completed.\n"
     ]
    }
   ],
   "source": [
    "import os\n",
    "import pandas as pd\n",
    "import shutil\n",
    "\n",
    "# Specify the root directory to split\n",
    "target_dir_to_split = \"/scratch/pawsey0380/hmai/2023_11_05_Reconverge_StaticUnrelaxed_KPOINTS/2023_11_05_Reconverge_StaticUnrelaxed/\"\n",
    "# Specify the new directory where you want to move/copy the folders\n",
    "new_directory = \"/scratch/pawsey0380/hmai/2023_11_05_Reconverge_StaticUnrelaxed_KPOINTS/2023_11_14_Unconverged_copy\"\n",
    "\n",
    "# Load the DataFrames from the pickle files\n",
    "df = pd.read_pickle(os.path.join(target_dir_to_split, \"failed_jobs.pkl\"))\n",
    "conv_df = pd.read_pickle(os.path.join(target_dir_to_split, \"converged_jobs.pkl\"))\n",
    "\n",
    "flat = False\n",
    "copy = True\n",
    "for _, system in df.iterrows():\n",
    "    path = system.filepath.split(sep=\"/OUTCAR\")[0]\n",
    "    \n",
    "    if flat:\n",
    "        directory_structure = system.job_name\n",
    "    else:\n",
    "        directory_structure = os.path.relpath(path, target_dir_to_split)\n",
    "    \n",
    "    # Construct the new path for the folder in the new directory\n",
    "    new_path = os.path.join(new_directory, directory_structure)\n",
    "\n",
    "    # Create the target directory if it doesn't exist\n",
    "    os.makedirs(new_path, exist_ok=True)\n",
    "\n",
    "    if copy:\n",
    "        print(f\"Copying {path} to {new_path}\")\n",
    "        shutil.copytree(path, new_path, dirs_exist_ok=True)  # Use copytree for copying entire directory\n",
    "    else:\n",
    "        print(f\"Moving {path} to {new_path}\")\n",
    "        shutil.move(path, new_path)\n",
    "\n",
    "print(f\"Move/Copy to {new_directory} completed.\")"
   ]
  },
  {
   "cell_type": "code",
   "execution_count": null,
   "metadata": {},
   "outputs": [],
   "source": []
  },
  {
   "cell_type": "code",
   "execution_count": 21,
   "metadata": {},
   "outputs": [
    {
     "name": "stdout",
     "output_type": "stream",
     "text": [
      "/scratch/pawsey0380/hmai/2023_11_05_Reconverge_StaticUnrelaxed_KPOINTS/2023_11_05_Reconverge_StaticUnrelaxed/S9_RA110_S2_21/Hg/S9_RA110_S2_21-Hg-28 /scratch/pawsey0380/hmai/2023_11_05_Reconverge_StaticUnrelaxed_KPOINTS/2023_11_14_Unconverged/S9_RA110_S2_21/Hg/S9_RA110_S2_21-Hg-28\n",
      "/scratch/pawsey0380/hmai/2023_11_05_Reconverge_StaticUnrelaxed_KPOINTS/2023_11_05_Reconverge_StaticUnrelaxed/S9_RA110_S2_21/Hg/S9_RA110_S2_21-Hg-24 /scratch/pawsey0380/hmai/2023_11_05_Reconverge_StaticUnrelaxed_KPOINTS/2023_11_14_Unconverged/S9_RA110_S2_21/Hg/S9_RA110_S2_21-Hg-24\n",
      "/scratch/pawsey0380/hmai/2023_11_05_Reconverge_StaticUnrelaxed_KPOINTS/2023_11_05_Reconverge_StaticUnrelaxed/S9_RA110_S2_21/Zr/S9_RA110_S2_21-Zr-25 /scratch/pawsey0380/hmai/2023_11_05_Reconverge_StaticUnrelaxed_KPOINTS/2023_11_14_Unconverged/S9_RA110_S2_21/Zr/S9_RA110_S2_21-Zr-25\n",
      "/scratch/pawsey0380/hmai/2023_11_05_Reconverge_StaticUnrelaxed_KPOINTS/2023_11_05_Reconverge_StaticUnrelaxed/S9_RA110_S2_21/Au/S9_RA110_S2_21-Au-35 /scratch/pawsey0380/hmai/2023_11_05_Reconverge_StaticUnrelaxed_KPOINTS/2023_11_14_Unconverged/S9_RA110_S2_21/Au/S9_RA110_S2_21-Au-35\n",
      "/scratch/pawsey0380/hmai/2023_11_05_Reconverge_StaticUnrelaxed_KPOINTS/2023_11_05_Reconverge_StaticUnrelaxed/S9_RA110_S2_21/Ir/S9_RA110_S2_21-Ir-34 /scratch/pawsey0380/hmai/2023_11_05_Reconverge_StaticUnrelaxed_KPOINTS/2023_11_14_Unconverged/S9_RA110_S2_21/Ir/S9_RA110_S2_21-Ir-34\n",
      "/scratch/pawsey0380/hmai/2023_11_05_Reconverge_StaticUnrelaxed_KPOINTS/2023_11_05_Reconverge_StaticUnrelaxed/S9_RA110_S2_21/Pd/S9_RA110_S2_21-Pd-23 /scratch/pawsey0380/hmai/2023_11_05_Reconverge_StaticUnrelaxed_KPOINTS/2023_11_14_Unconverged/S9_RA110_S2_21/Pd/S9_RA110_S2_21-Pd-23\n",
      "/scratch/pawsey0380/hmai/2023_11_05_Reconverge_StaticUnrelaxed_KPOINTS/2023_11_05_Reconverge_StaticUnrelaxed/S9_RA110_S2_21/Tl/S9_RA110_S2_21-Tl-34 /scratch/pawsey0380/hmai/2023_11_05_Reconverge_StaticUnrelaxed_KPOINTS/2023_11_14_Unconverged/S9_RA110_S2_21/Tl/S9_RA110_S2_21-Tl-34\n",
      "/scratch/pawsey0380/hmai/2023_11_05_Reconverge_StaticUnrelaxed_KPOINTS/2023_11_05_Reconverge_StaticUnrelaxed/S9_RA110_S2_21/Na/S9_RA110_S2_21-Na-28 /scratch/pawsey0380/hmai/2023_11_05_Reconverge_StaticUnrelaxed_KPOINTS/2023_11_14_Unconverged/S9_RA110_S2_21/Na/S9_RA110_S2_21-Na-28\n",
      "/scratch/pawsey0380/hmai/2023_11_05_Reconverge_StaticUnrelaxed_KPOINTS/2023_11_05_Reconverge_StaticUnrelaxed/S9_RA110_S2_21/Br/S9_RA110_S2_21-Br-36 /scratch/pawsey0380/hmai/2023_11_05_Reconverge_StaticUnrelaxed_KPOINTS/2023_11_14_Unconverged/S9_RA110_S2_21/Br/S9_RA110_S2_21-Br-36\n",
      "/scratch/pawsey0380/hmai/2023_11_05_Reconverge_StaticUnrelaxed_KPOINTS/2023_11_05_Reconverge_StaticUnrelaxed/S9_RA110_S2_21/Tm/S9_RA110_S2_21-Tm-31 /scratch/pawsey0380/hmai/2023_11_05_Reconverge_StaticUnrelaxed_KPOINTS/2023_11_14_Unconverged/S9_RA110_S2_21/Tm/S9_RA110_S2_21-Tm-31\n",
      "/scratch/pawsey0380/hmai/2023_11_05_Reconverge_StaticUnrelaxed_KPOINTS/2023_11_05_Reconverge_StaticUnrelaxed/S9_RA110_S2_21/Os/S9_RA110_S2_21-Os-28 /scratch/pawsey0380/hmai/2023_11_05_Reconverge_StaticUnrelaxed_KPOINTS/2023_11_14_Unconverged/S9_RA110_S2_21/Os/S9_RA110_S2_21-Os-28\n",
      "/scratch/pawsey0380/hmai/2023_11_05_Reconverge_StaticUnrelaxed_KPOINTS/2023_11_05_Reconverge_StaticUnrelaxed/S9_RA110_S2_21/Lu/S9_RA110_S2_21-Lu-36 /scratch/pawsey0380/hmai/2023_11_05_Reconverge_StaticUnrelaxed_KPOINTS/2023_11_14_Unconverged/S9_RA110_S2_21/Lu/S9_RA110_S2_21-Lu-36\n",
      "/scratch/pawsey0380/hmai/2023_11_05_Reconverge_StaticUnrelaxed_KPOINTS/2023_11_05_Reconverge_StaticUnrelaxed/S9_RA110_S2_21/P/S9_RA110_S2_21-P-33 /scratch/pawsey0380/hmai/2023_11_05_Reconverge_StaticUnrelaxed_KPOINTS/2023_11_14_Unconverged/S9_RA110_S2_21/P/S9_RA110_S2_21-P-33\n",
      "Move to /scratch/pawsey0380/hmai/2023_11_05_Reconverge_StaticUnrelaxed_KPOINTS/2023_11_14_Unconverged completed.\n"
     ]
    }
   ],
   "source": [
    "target_dir_to_split = \"/scratch/pawsey0380/hmai/2023_11_05_Reconverge_StaticUnrelaxed_KPOINTS/2023_11_05_Reconverge_StaticUnrelaxed/\"\n",
    "new_directory = \"/scratch/pawsey0380/hmai/2023_11_05_Reconverge_StaticUnrelaxed_KPOINTS/2023_11_14_Unconverged\"\n",
    "\n",
    "df = pd.read_pickle(os.path.join(target_dir_to_split, \"failed_jobs.pkl\"))\n",
    "conv_df = pd.read_pickle(os.path.join(target_dir_to_split, \"converged_jobs.pkl\"))\n",
    "flat = False\n",
    "for _, system in df.iterrows():\n",
    "    path = system.filepath.split(sep=\"/OUTCAR\")[0]\n",
    "    if flat:\n",
    "        directory_structure = system.job_name\n",
    "    else:\n",
    "        directory_structure = os.path.relpath(path, target_dir_to_split)\n",
    "    # Construct the new path for the folder in the new directory\n",
    "    new_path = os.path.join(new_directory, directory_structure)\n",
    "    new_path = os.path.join(new_directory, directory_structure)\n",
    "\n",
    "    # Create the target directory if it doesn't exist\n",
    "    os.makedirs(new_path, exist_ok=True)\n",
    "    print(path, new_path)\n",
    "    shutil.move(path, new_path)\n",
    "\n",
    "print(f\"Move to {new_directory} completed.\")"
   ]
  },
  {
   "cell_type": "code",
   "execution_count": 5,
   "metadata": {},
   "outputs": [
    {
     "data": {
      "text/plain": [
       "'/scratch/pawsey0380/hmai/2023_11_05_Reconverge_StaticUnrelaxed_KPOINTS/2023_11_05_Reconverge_StaticUnrelaxed/S9_RA110_S2_21/Er/S9_RA110_S2_21-Er-35/OUTCAR'"
      ]
     },
     "execution_count": 5,
     "metadata": {},
     "output_type": "execute_result"
    }
   ],
   "source": [
    "df.filepath.values[0]"
   ]
  },
  {
   "cell_type": "code",
   "execution_count": 3,
   "metadata": {},
   "outputs": [
    {
     "data": {
      "text/plain": [
       "0    /scratch/pawsey0380/hmai/2023_11_05_Reconverge...\n",
       "0    /scratch/pawsey0380/hmai/2023_11_05_Reconverge...\n",
       "0    /scratch/pawsey0380/hmai/2023_11_05_Reconverge...\n",
       "0    /scratch/pawsey0380/hmai/2023_11_05_Reconverge...\n",
       "0    /scratch/pawsey0380/hmai/2023_11_05_Reconverge...\n",
       "0    /scratch/pawsey0380/hmai/2023_11_05_Reconverge...\n",
       "0    /scratch/pawsey0380/hmai/2023_11_05_Reconverge...\n",
       "0    /scratch/pawsey0380/hmai/2023_11_05_Reconverge...\n",
       "0    /scratch/pawsey0380/hmai/2023_11_05_Reconverge...\n",
       "0    /scratch/pawsey0380/hmai/2023_11_05_Reconverge...\n",
       "0    /scratch/pawsey0380/hmai/2023_11_05_Reconverge...\n",
       "0    /scratch/pawsey0380/hmai/2023_11_05_Reconverge...\n",
       "0    /scratch/pawsey0380/hmai/2023_11_05_Reconverge...\n",
       "0    /scratch/pawsey0380/hmai/2023_11_05_Reconverge...\n",
       "0    /scratch/pawsey0380/hmai/2023_11_05_Reconverge...\n",
       "Name: filepath, dtype: object"
      ]
     },
     "execution_count": 3,
     "metadata": {},
     "output_type": "execute_result"
    }
   ],
   "source": [
    "df[\"filepath\"]"
   ]
  },
  {
   "cell_type": "code",
   "execution_count": null,
   "metadata": {},
   "outputs": [],
   "source": []
  }
 ],
 "metadata": {
  "kernelspec": {
   "display_name": "pymatgen",
   "language": "python",
   "name": "python3"
  },
  "language_info": {
   "codemirror_mode": {
    "name": "ipython",
    "version": 3
   },
   "file_extension": ".py",
   "mimetype": "text/x-python",
   "name": "python",
   "nbconvert_exporter": "python",
   "pygments_lexer": "ipython3",
   "version": "3.11.6"
  }
 },
 "nbformat": 4,
 "nbformat_minor": 2
}
