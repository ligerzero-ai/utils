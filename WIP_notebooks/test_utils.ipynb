{
 "cells": [
  {
   "cell_type": "code",
   "execution_count": 2,
   "metadata": {},
   "outputs": [],
   "source": [
    "from utils.generic import (\n",
    "    find_directories_with_files,\n",
    "    extract_files_from_tarball,\n",
    "    extract_files_from_tarballs_parallel,\n",
    "    extract_tarball,\n",
    "    find_and_extract_tarballs_parallel,\n",
    "    compress_directory,\n",
    "    cleanup_dir,\n",
    "    find_and_compress_directories_parallel\n",
    ")\n",
    "from utils.parallel import parallelise\n",
    "import os\n",
    "import shutil\n",
    "import tempfile\n",
    "%load_ext autoreload\n",
    "%autoreload 2"
   ]
  },
  {
   "cell_type": "code",
   "execution_count": 3,
   "metadata": {},
   "outputs": [
    {
     "name": "stdout",
     "output_type": "stream",
     "text": [
      "['/root/personal_python_utilities/test_utils/test_find_and_compress_parallel/2', '/root/personal_python_utilities/test_utils/test_find_and_compress_parallel/1', '/root/personal_python_utilities/test_utils/test_find_and_compress_parallel/3']\n",
      "# Processes: 3\n",
      "Processors available: 16\n",
      "CPUs used: 3\n",
      "Compressed directory: /root/personal_python_utilities/test_utils/test_find_and_compress_parallel/3\n",
      "Compressed directory: /root/personal_python_utilities/test_utils/test_find_and_compress_parallel/2\n",
      "Compressed directory: /root/personal_python_utilities/test_utils/test_find_and_compress_parallel/1\n"
     ]
    }
   ],
   "source": [
    "test_dir = \"/root/personal_python_utilities/test_utils/test_find_and_compress_parallel\"\n",
    "init_dir = \"/root/personal_python_utilities/test_utils/init_test_compress_and_cleanup_parallel\"\n",
    "\n",
    "try:\n",
    "    shutil.rmtree(test_dir)\n",
    "except FileNotFoundError:\n",
    "    asdf =[]\n",
    "    \n",
    "shutil.copytree(init_dir, test_dir)\n",
    "\n",
    "find_and_compress_directories_parallel(parent_dir=test_dir,\n",
    "                                       valid_dir_if_filenames=[\"INCAR\", \"POTCAR\"],\n",
    "                                       exclude_files_from_tarball=[\"CHG\", \"CHGCAR\"],\n",
    "                                       exclude_filepatterns_from_tarball=[\"AECCAR*\"],\n",
    "                                       keep_after=True,\n",
    "                                       files=[\"CHG\", \"CHGCAR\"],\n",
    "                                       file_patterns=[\"AECCAR*\"],\n",
    "                                       print_msg=True,\n",
    "                                       inside_dir=True)"
   ]
  },
  {
   "cell_type": "code",
   "execution_count": 15,
   "metadata": {},
   "outputs": [
    {
     "data": {
      "text/plain": [
       "['/root/personal_python_utilities/test_utils/init_test_compress_and_cleanup_parallel/2',\n",
       " '/root/personal_python_utilities/test_utils/init_test_compress_and_cleanup_parallel/1',\n",
       " '/root/personal_python_utilities/test_utils/init_test_compress_and_cleanup_parallel/3']"
      ]
     },
     "execution_count": 15,
     "metadata": {},
     "output_type": "execute_result"
    }
   ],
   "source": [
    "find_directories_with_files(parent_dir=\"/root/personal_python_utilities/test_utils/init_test_compress_and_cleanup_parallel\", filenames=[\"INCAR\"])"
   ]
  },
  {
   "cell_type": "code",
   "execution_count": 28,
   "metadata": {},
   "outputs": [
    {
     "name": "stdout",
     "output_type": "stream",
     "text": [
      "True\n",
      "True\n",
      "['/tmp/tmphcr9i1vy/dir3', '/tmp/tmphcr9i1vy/dir2', '/tmp/tmphcr9i1vy/dir1'] ['/tmp/tmphcr9i1vy/dir2', '/tmp/tmphcr9i1vy/dir3']\n",
      "False\n",
      "True\n",
      "['dir3', 'dir2', 'dir1'] /tmp/tmphcr9i1vy\n"
     ]
    }
   ],
   "source": [
    "# def tearDown(temp_dir):\n",
    "#     for root, dirs, files in os.walk(temp_dir, topdown=False):\n",
    "#         for file in files:\n",
    "#             os.remove(os.path.join(root, file))\n",
    "#         for dir in dirs:\n",
    "#             os.rmdir(os.path.join(root, dir))\n",
    "#     os.rmdir(temp_dir)\n",
    "import tempfile\n",
    "\n",
    "def create_test_files(temp_dir):\n",
    "    dir1 = os.path.join(temp_dir, \"dir1\")\n",
    "    dir2 = os.path.join(temp_dir, \"dir2\")\n",
    "    dir3 = os.path.join(temp_dir, \"dir3\")\n",
    "    dir4 = os.path.join(temp_dir, \"dir4\")\n",
    "    \n",
    "    os.makedirs(dir1)\n",
    "    os.makedirs(dir2)\n",
    "    os.makedirs(dir3)\n",
    "    os.makedirs(dir4)\n",
    "    \n",
    "    with open(os.path.join(dir1, \"file1.txt\"), 'w') as file:\n",
    "        file.write(\"This is file 1 in dir 1\")\n",
    "        \n",
    "    with open(os.path.join(dir1, \"file2.txt\"), 'w') as file:\n",
    "        file.write(\"This is file 2 in dir 1\")\n",
    "        \n",
    "    with open(os.path.join(dir2, \"file2.txt\"), 'w') as file:\n",
    "        file.write(\"This is file 2\")\n",
    "\n",
    "    with open(os.path.join(dir3, \"file3.txt\"), 'w') as file:\n",
    "        file.write(\"This is file 3\")\n",
    "\n",
    "    with open(os.path.join(dir4, \"file9.txt\"), \"w\") as file:\n",
    "        file.write(\"This is file 9\")\n",
    "def test_find_all_files_present(temp_dir):\n",
    "    result = find_directories_with_files(temp_dir, [\"file1.txt\", \"file2.txt\", \"file3.txt\"], all_present=False)\n",
    "    expected = [os.path.join(temp_dir, \"dir1\"), os.path.join(temp_dir, \"dir2\"), os.path.join(temp_dir, \"dir3\")]\n",
    "    print(set(result) == set(expected))\n",
    "\n",
    "def test_find_some_files_present(temp_dir):\n",
    "    result = find_directories_with_files(temp_dir, [\"file1.txt\", \"file2.txt\"], all_present=True)\n",
    "    expected = [os.path.join(temp_dir, \"dir1\")]\n",
    "    print(set(result) == set(expected))\n",
    "\n",
    "def test_find_any_files_present(temp_dir):\n",
    "    result = find_directories_with_files(temp_dir, [\"file2.txt\", \"file3.txt\"], all_present=False)\n",
    "    expected = [os.path.join(temp_dir, \"dir2\"), os.path.join(temp_dir, \"dir3\")]\n",
    "    print(result, expected)\n",
    "    print(set(result) == set(expected))\n",
    "\n",
    "def test_find_no_files_present(temp_dir):\n",
    "    result = find_directories_with_files(temp_dir, [\"file4.txt\", \"file5.txt\"], all_present=True)\n",
    "    expected = []\n",
    "    print(set(result) == set(expected))\n",
    "    \n",
    "temp_dir = tempfile.mkdtemp()\n",
    "create_test_files(temp_dir=temp_dir)\n",
    "\n",
    "\n",
    "test_find_all_files_present(temp_dir)\n",
    "test_find_some_files_present(temp_dir)\n",
    "test_find_any_files_present(temp_dir)\n",
    "test_find_no_files_present(temp_dir)\n",
    "\n",
    "print(os.listdir(temp_dir),os.path.abspath(temp_dir))"
   ]
  },
  {
   "attachments": {},
   "cell_type": "markdown",
   "metadata": {},
   "source": [
    "# Test extract_file_from_tarball"
   ]
  },
  {
   "cell_type": "code",
   "execution_count": 13,
   "metadata": {},
   "outputs": [],
   "source": [
    "extract_file_from_tarball_dir = \"/root/personal_python_utilities/test_utils/test_extract_file_from_tarball\"\n",
    "try:\n",
    "    shutil.rmtree(extract_file_from_tarball_dir)\n",
    "except FileNotFoundError:\n",
    "    asdf =[]\n",
    "shutil.copytree(\"/root/personal_python_utilities/test_utils/init_test_extract_file_from_tarball\", extract_file_from_tarball_dir)\n",
    "\n",
    "extract_files_from_tarball(tarball_filepath=os.path.join(extract_file_from_tarball_dir, \"S5-RA001-S210-S-33.tar.gz\"), filename=\"VASP_DDEC_analysis.output\")\n",
    "\n",
    "assert os.path.exists(os.path.join(extract_file_from_tarball_dir, \"VASP_DDEC_analysis.output\")), f\"File 'VASP_DDEC_analysis.output' does not exist.\""
   ]
  },
  {
   "attachments": {},
   "cell_type": "markdown",
   "metadata": {},
   "source": [
    "# Test extract_file_from_tarball_parallel"
   ]
  },
  {
   "cell_type": "code",
   "execution_count": 14,
   "metadata": {},
   "outputs": [
    {
     "name": "stdout",
     "output_type": "stream",
     "text": [
      "# Processes: 3\n",
      "Processors available: 16\n",
      "CPUs used: 3\n"
     ]
    }
   ],
   "source": [
    "extract_file_from_tarballs_parallel_dir = \"/root/personal_python_utilities/test_utils/test_extract_file_from_tarballs_parallel\"\n",
    "try:\n",
    "    shutil.rmtree(extract_file_from_tarballs_parallel_dir)\n",
    "except FileNotFoundError:\n",
    "    asdf =[]\n",
    "shutil.copytree(\"/root/personal_python_utilities/test_utils/init_test_extract_file_parallel\", extract_file_from_tarballs_parallel_dir)\n",
    "\n",
    "extract_files_from_tarballs_parallel(parent_dir=extract_file_from_tarballs_parallel_dir, filename=\"VASP_DDEC_analysis.output\", tarball_extension=\".tar.gz\", suffix=True)\n",
    "\n",
    "assert os.path.exists(\"/root/personal_python_utilities/test_utils/test_extract_file_from_tarballs_parallel/1/VASP_DDEC_analysis.output_S11-RA110-S3-32-Ac-11\"), f\"File 1/VASP_DDEC_analysis.output_S11-RA110-S3-32-Ac-11 does not exist.\"\n",
    "assert os.path.exists(\"/root/personal_python_utilities/test_utils/test_extract_file_from_tarballs_parallel/2/S3-RA110-S1-11-Ac-26/VASP_DDEC_analysis.output_S3-RA110-S1-11-Ac-26\"), f\"File 2/VASP_DDEC_analysis.output_S3-RA110-S1-11-Ac-26 does not exist.\"\n",
    "assert os.path.exists(\"/root/personal_python_utilities/test_utils/test_extract_file_from_tarballs_parallel/3/VASP_DDEC_analysis.output_S5-RA001-S210-S-33\"), f\"File 3/VASP_DDEC_analysis.output_S5-RA001-S210-S-33 does not exist.\"\n"
   ]
  },
  {
   "attachments": {},
   "cell_type": "markdown",
   "metadata": {},
   "source": [
    "# Test extract_tarball"
   ]
  },
  {
   "cell_type": "code",
   "execution_count": 15,
   "metadata": {},
   "outputs": [],
   "source": [
    "extract_tarball_dir = \"/root/personal_python_utilities/test_utils/init_test_extract_file_from_tarball\"\n",
    "test_dir = \"/root/personal_python_utilities/test_utils/test_extract_tarball\"\n",
    "try:\n",
    "    shutil.rmtree(test_dir)\n",
    "except FileNotFoundError:\n",
    "    asdf =[]\n",
    "shutil.copytree(extract_tarball_dir, test_dir)\n",
    "\n",
    "extract_tarball(os.path.join(test_dir, \"S5-RA001-S210-S-33.tar.gz\"), extraction_path=test_dir)\n",
    "assert os.path.exists(os.path.join(test_dir, \"vasp.log\")), f\"File test_extract_tarball/vasp.log does not exist.\""
   ]
  },
  {
   "attachments": {},
   "cell_type": "markdown",
   "metadata": {},
   "source": [
    "# Test extract_tarballs_parallel"
   ]
  },
  {
   "cell_type": "code",
   "execution_count": 16,
   "metadata": {},
   "outputs": [
    {
     "name": "stdout",
     "output_type": "stream",
     "text": [
      "# Processes: 3\n",
      "Processors available: 16\n",
      "CPUs used: 3\n"
     ]
    },
    {
     "name": "stdout",
     "output_type": "stream",
     "text": [
      "CPU times: user 0 ns, sys: 21.4 ms, total: 21.4 ms\n",
      "Wall time: 143 ms\n"
     ]
    }
   ],
   "source": [
    "%%time\n",
    "\n",
    "extract_tarball_dir = \"/root/personal_python_utilities/test_utils/init_test_extract_file_parallel\"\n",
    "test_dir = \"/root/personal_python_utilities/test_utils/test_extract_tarball_parallel\"\n",
    "try:\n",
    "    shutil.rmtree(test_dir)\n",
    "except FileNotFoundError:\n",
    "    asdf =[]\n",
    "shutil.copytree(extract_tarball_dir, test_dir)\n",
    "\n",
    "find_and_extract_tarballs_parallel(parent_dir=test_dir, tarball_extension=\".tar.gz\")\n",
    "\n",
    "assert os.path.exists(os.path.join(test_dir, \"1/vasp.log\")), f\"File 1/vasp.log did not extract properly.\"\n",
    "assert os.path.exists(os.path.join(test_dir, \"2/S3-RA110-S1-11-Ac-26/vasp.log\")), f\"File 2/S3-RA110-S1-11-Ac-26/vasp.log did not extract properly.\"\n",
    "assert os.path.exists(os.path.join(test_dir, \"3/vasp.log\")), f\"File 3/vasp.log did not extract properly.\""
   ]
  },
  {
   "cell_type": "code",
   "execution_count": 17,
   "metadata": {},
   "outputs": [],
   "source": [
    "def compress_and_cleanup(directory_path, \n",
    "                         exclude_files_from_tarball=[],\n",
    "                         exclude_filepatterns_from_tarball=[],\n",
    "                         keep_after=True,\n",
    "                         files=[],\n",
    "                         file_patterns=[],\n",
    "                         print_msg=False,\n",
    "                         inside_dir=True):\n",
    "    \n",
    "    compress_directory(directory_path=directory_path,\n",
    "                       exclude_files=exclude_files_from_tarball,\n",
    "                       exclude_file_patterns=exclude_filepatterns_from_tarball,\n",
    "                       print_message=print_msg,\n",
    "                       inside_dir=inside_dir)\n",
    "    # Add the newly compressed directory to the exceptions, or we'll remove it!\n",
    "    file_patterns += [f\"{os.path.basename(directory_path)}.tar.gz\"]\n",
    "    cleanup_dir(directory_path=directory_path,\n",
    "                keep=keep_after,\n",
    "                files=files,\n",
    "                file_patterns=file_patterns)"
   ]
  },
  {
   "cell_type": "code",
   "execution_count": 18,
   "metadata": {},
   "outputs": [],
   "source": [
    "# compress_directory broke and I need to fix it\n",
    "test_dir = \"/root/personal_python_utilities/test_utils/test_compress\"\n",
    "init_dir = \"/root/personal_python_utilities/test_utils/init_test_compress_and_cleanup/\"\n",
    "\n",
    "try:\n",
    "    shutil.rmtree(test_dir)\n",
    "except FileNotFoundError:\n",
    "    asdf =[]\n",
    "    \n",
    "shutil.copytree(init_dir, test_dir)\n",
    "\n",
    "exclude_files_from_tarball=[\"CHG\", \"CHGCAR\"]\n",
    "exclude_filepatterns_from_tarball=[\"AECCAR*\"]\n",
    "keep_after=True\n",
    "files=[\"CHG\", \"CHGCAR\", \"vasp.log\"]\n",
    "file_patterns=[\"VASP_DDEC_analysis.output\", \"AECCAR*\", \"OUTCAR\"]\n",
    "inside_dir=True\n",
    "print_msg=False\n",
    "\n",
    "compress_directory(directory_path=test_dir,\n",
    "                    exclude_files=exclude_files_from_tarball,\n",
    "                    exclude_file_patterns=exclude_filepatterns_from_tarball,\n",
    "                    print_message=print_msg,\n",
    "                    inside_dir=inside_dir)\n",
    "compress_directory(directory_path=test_dir,\n",
    "                    exclude_files=exclude_files_from_tarball,\n",
    "                    exclude_file_patterns=exclude_filepatterns_from_tarball,\n",
    "                    print_message=print_msg,\n",
    "                    inside_dir=False)\n",
    "#file_patterns += [f\"{os.path.basename(directory_path)}.tar.gz\"]\n",
    "\n",
    "# cleanup_dir(directory_path=test_dir,\n",
    "#             keep=keep_after,\n",
    "#             files=files,\n",
    "#             file_patterns=file_patterns)\n"
   ]
  },
  {
   "cell_type": "code",
   "execution_count": 19,
   "metadata": {},
   "outputs": [
    {
     "name": "stdout",
     "output_type": "stream",
     "text": [
      "# Processes: 3\n",
      "Processors available: 16\n",
      "CPUs used: 3\n",
      "Compressed directory: /root/personal_python_utilities/test_utils/test_find_and_compress_parallel/1\n",
      "Compressed directory: /root/personal_python_utilities/test_utils/test_find_and_compress_parallel/3Compressed directory: /root/personal_python_utilities/test_utils/test_find_and_compress_parallel/2\n",
      "\n"
     ]
    }
   ],
   "source": [
    "test_dir = \"/root/personal_python_utilities/test_utils/test_find_and_compress_parallel\"\n",
    "init_dir = \"/root/personal_python_utilities/test_utils/init_test_compress_and_cleanup_parallel\"\n",
    "\n",
    "try:\n",
    "    shutil.rmtree(test_dir)\n",
    "except FileNotFoundError:\n",
    "    asdf =[]\n",
    "    \n",
    "shutil.copytree(init_dir, test_dir)\n",
    "\n",
    "find_and_compress_directories_parallel(parent_dir=test_dir,\n",
    "                                       valid_dir_if_filenames=[\"INCAR\", \"POTCAR\"],\n",
    "                                       exclude_files_from_tarball=[\"CHG\", \"CHGCAR\"],\n",
    "                                       exclude_filepatterns_from_tarball=[\"AECCAR*\"],\n",
    "                                       keep_after=True,\n",
    "                                       files=[\"CHG\", \"CHGCAR\"],\n",
    "                                       file_patterns=[\"AECCAR*\"],\n",
    "                                       print_msg=True,\n",
    "                                       inside_dir=True)"
   ]
  },
  {
   "cell_type": "code",
   "execution_count": 20,
   "metadata": {},
   "outputs": [
    {
     "ename": "FileNotFoundError",
     "evalue": "[Errno 2] No such file or directory: '/root/personal_python_utilities/test_utils/test_find_and_extract_parallel'",
     "output_type": "error",
     "traceback": [
      "\u001b[0;31m---------------------------------------------------------------------------\u001b[0m",
      "\u001b[0;31mFileNotFoundError\u001b[0m                         Traceback (most recent call last)",
      "Cell \u001b[0;32mIn[20], line 4\u001b[0m\n\u001b[1;32m      1\u001b[0m test_dir \u001b[39m=\u001b[39m \u001b[39m\"\u001b[39m\u001b[39m/root/personal_python_utilities/test_utils/test_find_and_extract_parallel\u001b[39m\u001b[39m\"\u001b[39m\n\u001b[1;32m      2\u001b[0m init_dir \u001b[39m=\u001b[39m \u001b[39m\"\u001b[39m\u001b[39m/root/personal_python_utilities/test_utils/init_test_extract_file_parallel/\u001b[39m\u001b[39m\"\u001b[39m\n\u001b[0;32m----> 4\u001b[0m shutil\u001b[39m.\u001b[39;49mrmtree(test_dir)\n\u001b[1;32m      5\u001b[0m shutil\u001b[39m.\u001b[39mcopytree(init_dir, test_dir)\n\u001b[1;32m      7\u001b[0m compress_and_cleanup(directory_path\u001b[39m=\u001b[39mtest_dir,\n\u001b[1;32m      8\u001b[0m                      exclude_files_from_tarball\u001b[39m=\u001b[39m[\u001b[39m\"\u001b[39m\u001b[39mCHG\u001b[39m\u001b[39m\"\u001b[39m, \u001b[39m\"\u001b[39m\u001b[39mCHGCAR\u001b[39m\u001b[39m\"\u001b[39m],\n\u001b[1;32m      9\u001b[0m                      exclude_filepatterns_from_tarball\u001b[39m=\u001b[39m[\u001b[39m\"\u001b[39m\u001b[39mAECCAR*\u001b[39m\u001b[39m\"\u001b[39m],\n\u001b[0;32m   (...)\u001b[0m\n\u001b[1;32m     12\u001b[0m                      file_patterns\u001b[39m=\u001b[39m[\u001b[39m\"\u001b[39m\u001b[39mVASP_DDEC_analysis.output\u001b[39m\u001b[39m\"\u001b[39m, \u001b[39m\"\u001b[39m\u001b[39mAECCAR*\u001b[39m\u001b[39m\"\u001b[39m, \u001b[39m\"\u001b[39m\u001b[39mOUTCAR\u001b[39m\u001b[39m\"\u001b[39m],\n\u001b[1;32m     13\u001b[0m                      inside_dir\u001b[39m=\u001b[39m\u001b[39mTrue\u001b[39;00m)\n",
      "File \u001b[0;32m~/miniconda3/envs/pyiron/lib/python3.10/shutil.py:715\u001b[0m, in \u001b[0;36mrmtree\u001b[0;34m(path, ignore_errors, onerror)\u001b[0m\n\u001b[1;32m    713\u001b[0m     orig_st \u001b[39m=\u001b[39m os\u001b[39m.\u001b[39mlstat(path)\n\u001b[1;32m    714\u001b[0m \u001b[39mexcept\u001b[39;00m \u001b[39mException\u001b[39;00m:\n\u001b[0;32m--> 715\u001b[0m     onerror(os\u001b[39m.\u001b[39;49mlstat, path, sys\u001b[39m.\u001b[39;49mexc_info())\n\u001b[1;32m    716\u001b[0m     \u001b[39mreturn\u001b[39;00m\n\u001b[1;32m    717\u001b[0m \u001b[39mtry\u001b[39;00m:\n",
      "File \u001b[0;32m~/miniconda3/envs/pyiron/lib/python3.10/shutil.py:713\u001b[0m, in \u001b[0;36mrmtree\u001b[0;34m(path, ignore_errors, onerror)\u001b[0m\n\u001b[1;32m    710\u001b[0m \u001b[39m# Note: To guard against symlink races, we use the standard\u001b[39;00m\n\u001b[1;32m    711\u001b[0m \u001b[39m# lstat()/open()/fstat() trick.\u001b[39;00m\n\u001b[1;32m    712\u001b[0m \u001b[39mtry\u001b[39;00m:\n\u001b[0;32m--> 713\u001b[0m     orig_st \u001b[39m=\u001b[39m os\u001b[39m.\u001b[39;49mlstat(path)\n\u001b[1;32m    714\u001b[0m \u001b[39mexcept\u001b[39;00m \u001b[39mException\u001b[39;00m:\n\u001b[1;32m    715\u001b[0m     onerror(os\u001b[39m.\u001b[39mlstat, path, sys\u001b[39m.\u001b[39mexc_info())\n",
      "\u001b[0;31mFileNotFoundError\u001b[0m: [Errno 2] No such file or directory: '/root/personal_python_utilities/test_utils/test_find_and_extract_parallel'"
     ]
    }
   ],
   "source": [
    "test_dir = \"/root/personal_python_utilities/test_utils/test_find_and_extract_parallel\"\n",
    "init_dir = \"/root/personal_python_utilities/test_utils/init_test_extract_file_parallel/\"\n",
    "\n",
    "shutil.rmtree(test_dir)\n",
    "shutil.copytree(init_dir, test_dir)\n",
    "\n",
    "compress_and_cleanup(directory_path=test_dir,\n",
    "                     exclude_files_from_tarball=[\"CHG\", \"CHGCAR\"],\n",
    "                     exclude_filepatterns_from_tarball=[\"AECCAR*\"],\n",
    "                     keep_after=True,\n",
    "                     files=[\"CHG\", \"CHGCAR\", \"vasp.log\"],\n",
    "                     file_patterns=[\"VASP_DDEC_analysis.output\", \"AECCAR*\", \"OUTCAR\"],\n",
    "                     inside_dir=True)\n",
    "\n",
    "extract_tarball(tarball_filepath=f\"{os.path.join(test_dir, os.path.basename(test_dir))}.tar.gz\", extraction_path=test_dir)"
   ]
  },
  {
   "cell_type": "code",
   "execution_count": null,
   "metadata": {},
   "outputs": [],
   "source": []
  }
 ],
 "metadata": {
  "kernelspec": {
   "display_name": "pyiron",
   "language": "python",
   "name": "python3"
  },
  "language_info": {
   "codemirror_mode": {
    "name": "ipython",
    "version": 3
   },
   "file_extension": ".py",
   "mimetype": "text/x-python",
   "name": "python",
   "nbconvert_exporter": "python",
   "pygments_lexer": "ipython3",
   "version": "3.10.10"
  },
  "orig_nbformat": 4
 },
 "nbformat": 4,
 "nbformat_minor": 2
}
