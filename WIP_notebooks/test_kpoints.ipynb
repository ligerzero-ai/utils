{
 "cells": [
  {
   "cell_type": "code",
   "execution_count": 1,
   "metadata": {},
   "outputs": [],
   "source": [
    "from pymatgen.io.vasp import Kpoints"
   ]
  },
  {
   "cell_type": "code",
   "execution_count": 5,
   "metadata": {},
   "outputs": [
    {
     "data": {
      "text/plain": [
       "{'comment': 'Automatic kpoint scheme',\n",
       " 'nkpoints': 0,\n",
       " 'generation_style': 'Gamma',\n",
       " 'kpoints': [[4, 4, 1]],\n",
       " 'usershift': [0.0, 0.0, 0.0],\n",
       " 'kpts_weights': None,\n",
       " 'coord_type': None,\n",
       " 'labels': None,\n",
       " 'tet_number': 0,\n",
       " 'tet_weight': 0,\n",
       " 'tet_connections': None,\n",
       " '@module': 'pymatgen.io.vasp.inputs',\n",
       " '@class': 'Kpoints'}"
      ]
     },
     "execution_count": 5,
     "metadata": {},
     "output_type": "execute_result"
    }
   ],
   "source": [
    "a = Kpoints.from_file(\"/root/personal_python_utilities/utils/tests/vasp_resources/test_build_database_some_compressed/KPOINTS\")\n",
    "a_asdict = a.as_dict()\n",
    "asdf = Kpoints.from_dict(a_asdict)\n",
    "asdf.as_dict()"
   ]
  },
  {
   "cell_type": "code",
   "execution_count": 8,
   "metadata": {},
   "outputs": [
    {
     "data": {
      "text/plain": [
       "Automatic kpoint scheme\n",
       "0\n",
       "Gamma\n",
       "4 4 1"
      ]
     },
     "execution_count": 8,
     "metadata": {},
     "output_type": "execute_result"
    }
   ],
   "source": [
    "kpoint_dict = asdf.as_dict()\n",
    "Kpoints.from_dict(kpoint_dict)"
   ]
  },
  {
   "cell_type": "code",
   "execution_count": null,
   "metadata": {},
   "outputs": [],
   "source": [
    "asdf.as_dict()"
   ]
  }
 ],
 "metadata": {
  "kernelspec": {
   "display_name": "pyiron",
   "language": "python",
   "name": "python3"
  },
  "language_info": {
   "codemirror_mode": {
    "name": "ipython",
    "version": 3
   },
   "file_extension": ".py",
   "mimetype": "text/x-python",
   "name": "python",
   "nbconvert_exporter": "python",
   "pygments_lexer": "ipython3",
   "version": "3.10.10"
  },
  "orig_nbformat": 4
 },
 "nbformat": 4,
 "nbformat_minor": 2
}
