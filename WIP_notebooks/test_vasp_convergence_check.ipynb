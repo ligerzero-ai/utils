{
 "cells": [
  {
   "cell_type": "code",
   "execution_count": 1,
   "metadata": {},
   "outputs": [
    {
     "data": {
      "application/vnd.jupyter.widget-view+json": {
       "model_id": "3fe4d98ed3fd453995f1ea37b233ed5a",
       "version_major": 2,
       "version_minor": 0
      },
      "text/plain": []
     },
     "metadata": {},
     "output_type": "display_data"
    }
   ],
   "source": [
    "import os\n",
    "import utils.generic as gen_tools\n",
    "from utils.vasp import parse_VASP_directory, check_convergence\n",
    "%load_ext autoreload\n",
    "%autoreload 2\n"
   ]
  },
  {
   "cell_type": "code",
   "execution_count": 2,
   "metadata": {},
   "outputs": [
    {
     "name": "stderr",
     "output_type": "stream",
     "text": [
      "/root/miniconda3/envs/pyiron/lib/python3.10/site-packages/pymatgen/io/vasp/inputs.py:1819: UnknownPotcarWarning: POTCAR data with symbol S does not match any VASP POTCAR known to pymatgen. There is a possibility your POTCAR is corrupted or that the pymatgen database is incomplete.\n",
      "  warnings.warn(\n",
      "/root/miniconda3/envs/pyiron/lib/python3.10/site-packages/pymatgen/io/vasp/inputs.py:1819: UnknownPotcarWarning: POTCAR data with symbol Fe does not match any VASP POTCAR known to pymatgen. There is a possibility your POTCAR is corrupted or that the pymatgen database is incomplete.\n",
      "  warnings.warn(\n",
      "/root/miniconda3/envs/pyiron/lib/python3.10/site-packages/pymatgen/io/vasp/outputs.py:1098: UserWarning: No POTCAR file with matching TITEL fields was found in /root/personal_python_utilities/test_utils/init_test_compress_and_cleanup\n",
      "  warnings.warn(f\"No POTCAR file with matching TITEL fields was found in {os.path.abspath(p)}\")\n"
     ]
    },
    {
     "data": {
      "text/plain": [
       "True"
      ]
     },
     "execution_count": 2,
     "metadata": {},
     "output_type": "execute_result"
    }
   ],
   "source": [
    "test_dir = \"/root/personal_python_utilities/test_utils/init_test_compress_and_cleanup\"\n",
    "check_convergence(test_dir)"
   ]
  },
  {
   "cell_type": "code",
   "execution_count": 3,
   "metadata": {},
   "outputs": [
    {
     "name": "stdout",
     "output_type": "stream",
     "text": [
      "Successful read of OUTCAR: /root/personal_python_utilities/test_utils/init_test_compress_and_cleanup/OUTCAR\n"
     ]
    },
    {
     "data": {
      "text/html": [
       "<div>\n",
       "<style scoped>\n",
       "    .dataframe tbody tr th:only-of-type {\n",
       "        vertical-align: middle;\n",
       "    }\n",
       "\n",
       "    .dataframe tbody tr th {\n",
       "        vertical-align: top;\n",
       "    }\n",
       "\n",
       "    .dataframe thead th {\n",
       "        text-align: right;\n",
       "    }\n",
       "</style>\n",
       "<table border=\"1\" class=\"dataframe\">\n",
       "  <thead>\n",
       "    <tr style=\"text-align: right;\">\n",
       "      <th></th>\n",
       "      <th>job_name</th>\n",
       "      <th>filepath</th>\n",
       "      <th>structures</th>\n",
       "      <th>energy</th>\n",
       "      <th>energy_zero</th>\n",
       "      <th>forces</th>\n",
       "      <th>stresses</th>\n",
       "      <th>magmoms</th>\n",
       "      <th>scf_steps</th>\n",
       "      <th>convergence</th>\n",
       "      <th>element_list</th>\n",
       "      <th>element_count</th>\n",
       "      <th>potcar_electron_count</th>\n",
       "      <th>total_electron_count</th>\n",
       "      <th>kpoints</th>\n",
       "      <th>incar</th>\n",
       "    </tr>\n",
       "  </thead>\n",
       "  <tbody>\n",
       "    <tr>\n",
       "      <th>0</th>\n",
       "      <td>init_test_compress_and_cleanup</td>\n",
       "      <td>/root/personal_python_utilities/test_utils/ini...</td>\n",
       "      <td>[{\"@module\": \"pymatgen.core.structure\", \"@clas...</td>\n",
       "      <td>[-607.92801379]</td>\n",
       "      <td>[-607.93041222]</td>\n",
       "      <td>[[[-4.7e-05, 0.005072, -0.000105], [4.8e-05, 0...</td>\n",
       "      <td>[[[-0.010610983606907959, 2.0596979944200003e-...</td>\n",
       "      <td>[[2.849, 2.848, 2.647, 2.647, 2.624, 2.622, 2....</td>\n",
       "      <td>[43]</td>\n",
       "      <td>True</td>\n",
       "      <td>[Fe, S, Fe]</td>\n",
       "      <td>[33, 1, 42]</td>\n",
       "      <td>[8.0, 6.0, 8.0]</td>\n",
       "      <td>606.0</td>\n",
       "      <td>{\"comment\": \"Automatic kpoint scheme\", \"nkpoin...</td>\n",
       "      <td>{\"ALGO\": \"Fast\", \"AMIX\": 0.01, \"AMIX_MAG\": 0.1...</td>\n",
       "    </tr>\n",
       "  </tbody>\n",
       "</table>\n",
       "</div>"
      ],
      "text/plain": [
       "                         job_name   \n",
       "0  init_test_compress_and_cleanup  \\\n",
       "\n",
       "                                            filepath   \n",
       "0  /root/personal_python_utilities/test_utils/ini...  \\\n",
       "\n",
       "                                          structures           energy   \n",
       "0  [{\"@module\": \"pymatgen.core.structure\", \"@clas...  [-607.92801379]  \\\n",
       "\n",
       "       energy_zero                                             forces   \n",
       "0  [-607.93041222]  [[[-4.7e-05, 0.005072, -0.000105], [4.8e-05, 0...  \\\n",
       "\n",
       "                                            stresses   \n",
       "0  [[[-0.010610983606907959, 2.0596979944200003e-...  \\\n",
       "\n",
       "                                             magmoms scf_steps  convergence   \n",
       "0  [[2.849, 2.848, 2.647, 2.647, 2.624, 2.622, 2....      [43]         True  \\\n",
       "\n",
       "  element_list element_count potcar_electron_count  total_electron_count   \n",
       "0  [Fe, S, Fe]   [33, 1, 42]       [8.0, 6.0, 8.0]                 606.0  \\\n",
       "\n",
       "                                             kpoints   \n",
       "0  {\"comment\": \"Automatic kpoint scheme\", \"nkpoin...  \\\n",
       "\n",
       "                                               incar  \n",
       "0  {\"ALGO\": \"Fast\", \"AMIX\": 0.01, \"AMIX_MAG\": 0.1...  "
      ]
     },
     "execution_count": 3,
     "metadata": {},
     "output_type": "execute_result"
    }
   ],
   "source": [
    "parse_VASP_directory(directory=test_dir)"
   ]
  },
  {
   "cell_type": "code",
   "execution_count": 4,
   "metadata": {},
   "outputs": [],
   "source": [
    "from utils.vasp import DatabaseGenerator"
   ]
  },
  {
   "cell_type": "code",
   "execution_count": 7,
   "metadata": {},
   "outputs": [],
   "source": [
    "a = None"
   ]
  },
  {
   "cell_type": "code",
   "execution_count": 8,
   "metadata": {},
   "outputs": [],
   "source": [
    "if a:\n",
    "    print(\"None is True\")"
   ]
  },
  {
   "cell_type": "code",
   "execution_count": 5,
   "metadata": {},
   "outputs": [
    {
     "name": "stdout",
     "output_type": "stream",
     "text": [
      "# Processes: 3\n",
      "Processors available: 16\n",
      "CPUs used: 3\n"
     ]
    },
    {
     "name": "stderr",
     "output_type": "stream",
     "text": [
      "/root/miniconda3/envs/pyiron/lib/python3.10/site-packages/pymatgen/io/vasp/inputs.py:1819: UnknownPotcarWarning: POTCAR data with symbol S does not match any VASP POTCAR known to pymatgen. There is a possibility your POTCAR is corrupted or that the pymatgen database is incomplete.\n",
      "  warnings.warn(\n",
      "/root/miniconda3/envs/pyiron/lib/python3.10/site-packages/pymatgen/io/vasp/inputs.py:1819: UnknownPotcarWarning: POTCAR data with symbol Fe does not match any VASP POTCAR known to pymatgen. There is a possibility your POTCAR is corrupted or that the pymatgen database is incomplete.\n",
      "  warnings.warn(\n",
      "/root/miniconda3/envs/pyiron/lib/python3.10/site-packages/pymatgen/io/vasp/outputs.py:1098: UserWarning: No POTCAR file with matching TITEL fields was found in /root/personal_python_utilities/test_utils/init_test_compress_and_cleanup_parallel/1\n",
      "  warnings.warn(f\"No POTCAR file with matching TITEL fields was found in {os.path.abspath(p)}\")\n",
      "/root/miniconda3/envs/pyiron/lib/python3.10/site-packages/pymatgen/io/vasp/inputs.py:1819: UnknownPotcarWarning: POTCAR data with symbol S does not match any VASP POTCAR known to pymatgen. There is a possibility your POTCAR is corrupted or that the pymatgen database is incomplete.\n",
      "  warnings.warn(\n",
      "/root/miniconda3/envs/pyiron/lib/python3.10/site-packages/pymatgen/io/vasp/inputs.py:1819: UnknownPotcarWarning: POTCAR data with symbol S does not match any VASP POTCAR known to pymatgen. There is a possibility your POTCAR is corrupted or that the pymatgen database is incomplete.\n",
      "  warnings.warn(\n",
      "/root/miniconda3/envs/pyiron/lib/python3.10/site-packages/pymatgen/io/vasp/inputs.py:1819: UnknownPotcarWarning: POTCAR data with symbol Fe does not match any VASP POTCAR known to pymatgen. There is a possibility your POTCAR is corrupted or that the pymatgen database is incomplete.\n",
      "  warnings.warn(\n",
      "/root/miniconda3/envs/pyiron/lib/python3.10/site-packages/pymatgen/io/vasp/inputs.py:1819: UnknownPotcarWarning: POTCAR data with symbol Fe does not match any VASP POTCAR known to pymatgen. There is a possibility your POTCAR is corrupted or that the pymatgen database is incomplete.\n",
      "  warnings.warn(\n",
      "/root/miniconda3/envs/pyiron/lib/python3.10/site-packages/pymatgen/io/vasp/outputs.py:1098: UserWarning: No POTCAR file with matching TITEL fields was found in /root/personal_python_utilities/test_utils/init_test_compress_and_cleanup_parallel/3\n",
      "  warnings.warn(f\"No POTCAR file with matching TITEL fields was found in {os.path.abspath(p)}\")\n",
      "/root/miniconda3/envs/pyiron/lib/python3.10/site-packages/pymatgen/io/vasp/outputs.py:1098: UserWarning: No POTCAR file with matching TITEL fields was found in /root/personal_python_utilities/test_utils/init_test_compress_and_cleanup_parallel/2\n",
      "  warnings.warn(f\"No POTCAR file with matching TITEL fields was found in {os.path.abspath(p)}\")\n"
     ]
    },
    {
     "name": "stdout",
     "output_type": "stream",
     "text": [
      "Successful read of OUTCAR: /root/personal_python_utilities/test_utils/init_test_compress_and_cleanup_parallel/1/OUTCAR\n",
      "Successful read of OUTCAR: /root/personal_python_utilities/test_utils/init_test_compress_and_cleanup_parallel/2/OUTCARSuccessful read of OUTCAR: /root/personal_python_utilities/test_utils/init_test_compress_and_cleanup_parallel/3/OUTCAR\n",
      "\n",
      "Elapsed time: 3.273 seconds\n"
     ]
    }
   ],
   "source": [
    "datagen = DatabaseGenerator(\"/root/personal_python_utilities/test_utils/init_test_compress_and_cleanup_parallel\")\n",
    "import pandas as pd\n",
    "df = datagen.build_database()"
   ]
  },
  {
   "cell_type": "code",
   "execution_count": 6,
   "metadata": {},
   "outputs": [
    {
     "data": {
      "text/html": [
       "<div>\n",
       "<style scoped>\n",
       "    .dataframe tbody tr th:only-of-type {\n",
       "        vertical-align: middle;\n",
       "    }\n",
       "\n",
       "    .dataframe tbody tr th {\n",
       "        vertical-align: top;\n",
       "    }\n",
       "\n",
       "    .dataframe thead th {\n",
       "        text-align: right;\n",
       "    }\n",
       "</style>\n",
       "<table border=\"1\" class=\"dataframe\">\n",
       "  <thead>\n",
       "    <tr style=\"text-align: right;\">\n",
       "      <th></th>\n",
       "      <th>job_name</th>\n",
       "      <th>filepath</th>\n",
       "      <th>structures</th>\n",
       "      <th>energy</th>\n",
       "      <th>energy_zero</th>\n",
       "      <th>forces</th>\n",
       "      <th>stresses</th>\n",
       "      <th>magmoms</th>\n",
       "      <th>scf_steps</th>\n",
       "      <th>convergence</th>\n",
       "      <th>element_list</th>\n",
       "      <th>element_count</th>\n",
       "      <th>potcar_electron_count</th>\n",
       "      <th>total_electron_count</th>\n",
       "      <th>kpoints</th>\n",
       "      <th>incar</th>\n",
       "    </tr>\n",
       "  </thead>\n",
       "  <tbody>\n",
       "    <tr>\n",
       "      <th>0</th>\n",
       "      <td>2</td>\n",
       "      <td>/root/personal_python_utilities/test_utils/ini...</td>\n",
       "      <td>[{\"@module\": \"pymatgen.core.structure\", \"@clas...</td>\n",
       "      <td>[-607.92801379]</td>\n",
       "      <td>[-607.93041222]</td>\n",
       "      <td>[[[-4.7e-05, 0.005072, -0.000105], [4.8e-05, 0...</td>\n",
       "      <td>[[[-0.010610983606907959, 2.0596979944200003e-...</td>\n",
       "      <td>[[2.849, 2.848, 2.647, 2.647, 2.624, 2.622, 2....</td>\n",
       "      <td>[43]</td>\n",
       "      <td>True</td>\n",
       "      <td>[Fe, S, Fe]</td>\n",
       "      <td>[33, 1, 42]</td>\n",
       "      <td>[8.0, 6.0, 8.0]</td>\n",
       "      <td>606.0</td>\n",
       "      <td>{\"comment\": \"Automatic kpoint scheme\", \"nkpoin...</td>\n",
       "      <td>{\"ALGO\": \"Fast\", \"AMIX\": 0.01, \"AMIX_MAG\": 0.1...</td>\n",
       "    </tr>\n",
       "    <tr>\n",
       "      <th>0</th>\n",
       "      <td>1</td>\n",
       "      <td>/root/personal_python_utilities/test_utils/ini...</td>\n",
       "      <td>[{\"@module\": \"pymatgen.core.structure\", \"@clas...</td>\n",
       "      <td>[-607.92801379]</td>\n",
       "      <td>[-607.93041222]</td>\n",
       "      <td>[[[-4.7e-05, 0.005072, -0.000105], [4.8e-05, 0...</td>\n",
       "      <td>[[[-0.010610983606907959, 2.0596979944200003e-...</td>\n",
       "      <td>[[2.849, 2.848, 2.647, 2.647, 2.624, 2.622, 2....</td>\n",
       "      <td>[43]</td>\n",
       "      <td>True</td>\n",
       "      <td>[Fe, S, Fe]</td>\n",
       "      <td>[33, 1, 42]</td>\n",
       "      <td>[8.0, 6.0, 8.0]</td>\n",
       "      <td>606.0</td>\n",
       "      <td>{\"comment\": \"Automatic kpoint scheme\", \"nkpoin...</td>\n",
       "      <td>{\"ALGO\": \"Fast\", \"AMIX\": 0.01, \"AMIX_MAG\": 0.1...</td>\n",
       "    </tr>\n",
       "    <tr>\n",
       "      <th>0</th>\n",
       "      <td>3</td>\n",
       "      <td>/root/personal_python_utilities/test_utils/ini...</td>\n",
       "      <td>[{\"@module\": \"pymatgen.core.structure\", \"@clas...</td>\n",
       "      <td>[-607.92801379]</td>\n",
       "      <td>[-607.93041222]</td>\n",
       "      <td>[[[-4.7e-05, 0.005072, -0.000105], [4.8e-05, 0...</td>\n",
       "      <td>[[[-0.010610983606907959, 2.0596979944200003e-...</td>\n",
       "      <td>[[2.849, 2.848, 2.647, 2.647, 2.624, 2.622, 2....</td>\n",
       "      <td>[43]</td>\n",
       "      <td>True</td>\n",
       "      <td>[Fe, S, Fe]</td>\n",
       "      <td>[33, 1, 42]</td>\n",
       "      <td>[8.0, 6.0, 8.0]</td>\n",
       "      <td>606.0</td>\n",
       "      <td>{\"comment\": \"Automatic kpoint scheme\", \"nkpoin...</td>\n",
       "      <td>{\"ALGO\": \"Fast\", \"AMIX\": 0.01, \"AMIX_MAG\": 0.1...</td>\n",
       "    </tr>\n",
       "  </tbody>\n",
       "</table>\n",
       "</div>"
      ],
      "text/plain": [
       "  job_name                                           filepath   \n",
       "0        2  /root/personal_python_utilities/test_utils/ini...  \\\n",
       "0        1  /root/personal_python_utilities/test_utils/ini...   \n",
       "0        3  /root/personal_python_utilities/test_utils/ini...   \n",
       "\n",
       "                                          structures           energy   \n",
       "0  [{\"@module\": \"pymatgen.core.structure\", \"@clas...  [-607.92801379]  \\\n",
       "0  [{\"@module\": \"pymatgen.core.structure\", \"@clas...  [-607.92801379]   \n",
       "0  [{\"@module\": \"pymatgen.core.structure\", \"@clas...  [-607.92801379]   \n",
       "\n",
       "       energy_zero                                             forces   \n",
       "0  [-607.93041222]  [[[-4.7e-05, 0.005072, -0.000105], [4.8e-05, 0...  \\\n",
       "0  [-607.93041222]  [[[-4.7e-05, 0.005072, -0.000105], [4.8e-05, 0...   \n",
       "0  [-607.93041222]  [[[-4.7e-05, 0.005072, -0.000105], [4.8e-05, 0...   \n",
       "\n",
       "                                            stresses   \n",
       "0  [[[-0.010610983606907959, 2.0596979944200003e-...  \\\n",
       "0  [[[-0.010610983606907959, 2.0596979944200003e-...   \n",
       "0  [[[-0.010610983606907959, 2.0596979944200003e-...   \n",
       "\n",
       "                                             magmoms scf_steps  convergence   \n",
       "0  [[2.849, 2.848, 2.647, 2.647, 2.624, 2.622, 2....      [43]         True  \\\n",
       "0  [[2.849, 2.848, 2.647, 2.647, 2.624, 2.622, 2....      [43]         True   \n",
       "0  [[2.849, 2.848, 2.647, 2.647, 2.624, 2.622, 2....      [43]         True   \n",
       "\n",
       "  element_list element_count potcar_electron_count  total_electron_count   \n",
       "0  [Fe, S, Fe]   [33, 1, 42]       [8.0, 6.0, 8.0]                 606.0  \\\n",
       "0  [Fe, S, Fe]   [33, 1, 42]       [8.0, 6.0, 8.0]                 606.0   \n",
       "0  [Fe, S, Fe]   [33, 1, 42]       [8.0, 6.0, 8.0]                 606.0   \n",
       "\n",
       "                                             kpoints   \n",
       "0  {\"comment\": \"Automatic kpoint scheme\", \"nkpoin...  \\\n",
       "0  {\"comment\": \"Automatic kpoint scheme\", \"nkpoin...   \n",
       "0  {\"comment\": \"Automatic kpoint scheme\", \"nkpoin...   \n",
       "\n",
       "                                               incar  \n",
       "0  {\"ALGO\": \"Fast\", \"AMIX\": 0.01, \"AMIX_MAG\": 0.1...  \n",
       "0  {\"ALGO\": \"Fast\", \"AMIX\": 0.01, \"AMIX_MAG\": 0.1...  \n",
       "0  {\"ALGO\": \"Fast\", \"AMIX\": 0.01, \"AMIX_MAG\": 0.1...  "
      ]
     },
     "execution_count": 6,
     "metadata": {},
     "output_type": "execute_result"
    }
   ],
   "source": [
    "df"
   ]
  },
  {
   "cell_type": "code",
   "execution_count": null,
   "metadata": {},
   "outputs": [],
   "source": []
  }
 ],
 "metadata": {
  "kernelspec": {
   "display_name": "pyiron",
   "language": "python",
   "name": "python3"
  },
  "language_info": {
   "codemirror_mode": {
    "name": "ipython",
    "version": 3
   },
   "file_extension": ".py",
   "mimetype": "text/x-python",
   "name": "python",
   "nbconvert_exporter": "python",
   "pygments_lexer": "ipython3",
   "version": "3.10.10"
  },
  "orig_nbformat": 4
 },
 "nbformat": 4,
 "nbformat_minor": 2
}
