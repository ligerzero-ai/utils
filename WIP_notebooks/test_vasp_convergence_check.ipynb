{
 "cells": [
  {
   "cell_type": "code",
   "execution_count": 1,
   "metadata": {},
   "outputs": [
    {
     "data": {
      "application/vnd.jupyter.widget-view+json": {
       "model_id": "ad9395a0c7f54222a3afdc83623b75d3",
       "version_major": 2,
       "version_minor": 0
      },
      "text/plain": []
     },
     "metadata": {},
     "output_type": "display_data"
    }
   ],
   "source": [
    "import os\n",
    "import utils.generic as gen_tools\n",
    "from utils.vasp import parse_VASP_directory, check_convergence\n",
    "%load_ext autoreload\n",
    "%autoreload 2\n"
   ]
  },
  {
   "cell_type": "code",
   "execution_count": 2,
   "metadata": {},
   "outputs": [
    {
     "name": "stderr",
     "output_type": "stream",
     "text": [
      "/root/miniconda3/envs/pyiron/lib/python3.10/site-packages/pymatgen/io/vasp/inputs.py:1819: UnknownPotcarWarning: POTCAR data with symbol S does not match any VASP POTCAR known to pymatgen. There is a possibility your POTCAR is corrupted or that the pymatgen database is incomplete.\n",
      "  warnings.warn(\n",
      "/root/miniconda3/envs/pyiron/lib/python3.10/site-packages/pymatgen/io/vasp/inputs.py:1819: UnknownPotcarWarning: POTCAR data with symbol Fe does not match any VASP POTCAR known to pymatgen. There is a possibility your POTCAR is corrupted or that the pymatgen database is incomplete.\n",
      "  warnings.warn(\n",
      "/root/miniconda3/envs/pyiron/lib/python3.10/site-packages/pymatgen/io/vasp/outputs.py:1098: UserWarning: No POTCAR file with matching TITEL fields was found in /root/personal_python_utilities/test_utils/init_test_compress_and_cleanup\n",
      "  warnings.warn(f\"No POTCAR file with matching TITEL fields was found in {os.path.abspath(p)}\")\n"
     ]
    },
    {
     "data": {
      "text/plain": [
       "True"
      ]
     },
     "execution_count": 2,
     "metadata": {},
     "output_type": "execute_result"
    }
   ],
   "source": [
    "test_dir = \"/root/personal_python_utilities/test_utils/init_test_compress_and_cleanup\"\n",
    "check_convergence(test_dir)"
   ]
  },
  {
   "cell_type": "code",
   "execution_count": 3,
   "metadata": {},
   "outputs": [
    {
     "name": "stdout",
     "output_type": "stream",
     "text": [
      "Successful read of OUTCAR: /root/personal_python_utilities/test_utils/init_test_compress_and_cleanup/OUTCAR\n"
     ]
    },
    {
     "data": {
      "text/html": [
       "<div>\n",
       "<style scoped>\n",
       "    .dataframe tbody tr th:only-of-type {\n",
       "        vertical-align: middle;\n",
       "    }\n",
       "\n",
       "    .dataframe tbody tr th {\n",
       "        vertical-align: top;\n",
       "    }\n",
       "\n",
       "    .dataframe thead th {\n",
       "        text-align: right;\n",
       "    }\n",
       "</style>\n",
       "<table border=\"1\" class=\"dataframe\">\n",
       "  <thead>\n",
       "    <tr style=\"text-align: right;\">\n",
       "      <th></th>\n",
       "      <th>job_name</th>\n",
       "      <th>filepath</th>\n",
       "      <th>structures</th>\n",
       "      <th>energy</th>\n",
       "      <th>energy_zero</th>\n",
       "      <th>forces</th>\n",
       "      <th>stresses</th>\n",
       "      <th>magmoms</th>\n",
       "      <th>scf_steps</th>\n",
       "      <th>convergence</th>\n",
       "      <th>element_list</th>\n",
       "      <th>element_count</th>\n",
       "      <th>potcar_electron_count</th>\n",
       "      <th>total_electron_count</th>\n",
       "      <th>kpoints</th>\n",
       "      <th>incar</th>\n",
       "    </tr>\n",
       "  </thead>\n",
       "  <tbody>\n",
       "    <tr>\n",
       "      <th>0</th>\n",
       "      <td>init_test_compress_and_cleanup</td>\n",
       "      <td>/root/personal_python_utilities/test_utils/ini...</td>\n",
       "      <td>[{\"@module\": \"pymatgen.core.structure\", \"@clas...</td>\n",
       "      <td>[-607.92801379]</td>\n",
       "      <td>[-607.93041222]</td>\n",
       "      <td>[[[-4.7e-05, 0.005072, -0.000105], [4.8e-05, 0...</td>\n",
       "      <td>[[[-0.010610983606907959, 2.0596979944200003e-...</td>\n",
       "      <td>[[2.849, 2.848, 2.647, 2.647, 2.624, 2.622, 2....</td>\n",
       "      <td>[43]</td>\n",
       "      <td>True</td>\n",
       "      <td>[Fe, S, Fe]</td>\n",
       "      <td>[33, 1, 42]</td>\n",
       "      <td>[8.0, 6.0, 8.0]</td>\n",
       "      <td>606.0</td>\n",
       "      <td>{\"comment\": \"Automatic kpoint scheme\", \"nkpoin...</td>\n",
       "      <td>{\"ALGO\": \"Fast\", \"AMIX\": 0.01, \"AMIX_MAG\": 0.1...</td>\n",
       "    </tr>\n",
       "  </tbody>\n",
       "</table>\n",
       "</div>"
      ],
      "text/plain": [
       "                         job_name   \n",
       "0  init_test_compress_and_cleanup  \\\n",
       "\n",
       "                                            filepath   \n",
       "0  /root/personal_python_utilities/test_utils/ini...  \\\n",
       "\n",
       "                                          structures           energy   \n",
       "0  [{\"@module\": \"pymatgen.core.structure\", \"@clas...  [-607.92801379]  \\\n",
       "\n",
       "       energy_zero                                             forces   \n",
       "0  [-607.93041222]  [[[-4.7e-05, 0.005072, -0.000105], [4.8e-05, 0...  \\\n",
       "\n",
       "                                            stresses   \n",
       "0  [[[-0.010610983606907959, 2.0596979944200003e-...  \\\n",
       "\n",
       "                                             magmoms scf_steps  convergence   \n",
       "0  [[2.849, 2.848, 2.647, 2.647, 2.624, 2.622, 2....      [43]         True  \\\n",
       "\n",
       "  element_list element_count potcar_electron_count  total_electron_count   \n",
       "0  [Fe, S, Fe]   [33, 1, 42]       [8.0, 6.0, 8.0]                 606.0  \\\n",
       "\n",
       "                                             kpoints   \n",
       "0  {\"comment\": \"Automatic kpoint scheme\", \"nkpoin...  \\\n",
       "\n",
       "                                               incar  \n",
       "0  {\"ALGO\": \"Fast\", \"AMIX\": 0.01, \"AMIX_MAG\": 0.1...  "
      ]
     },
     "execution_count": 3,
     "metadata": {},
     "output_type": "execute_result"
    }
   ],
   "source": [
    "parse_VASP_directory(directory=test_dir)"
   ]
  },
  {
   "cell_type": "code",
   "execution_count": 7,
   "metadata": {},
   "outputs": [
    {
     "data": {
      "application/vnd.jupyter.widget-view+json": {
       "model_id": "9aac1e5e97644b7a9fc3e3db0a3df359",
       "version_major": 2,
       "version_minor": 0
      },
      "text/plain": []
     },
     "metadata": {},
     "output_type": "display_data"
    }
   ],
   "source": [
    "from utils.vasp import DatabaseGenerator"
   ]
  },
  {
   "cell_type": "code",
   "execution_count": 8,
   "metadata": {},
   "outputs": [
    {
     "name": "stdout",
     "output_type": "stream",
     "text": [
      "# Processes: 5\n",
      "Processors available: 16\n",
      "CPUs used: 5\n",
      "# Processes: 5\n",
      "Processors available: 16\n",
      "CPUs used: 5\n"
     ]
    },
    {
     "name": "stderr",
     "output_type": "stream",
     "text": [
      "/root/miniconda3/envs/pyiron/lib/python3.10/site-packages/pymatgen/io/vasp/inputs.py:1819: UnknownPotcarWarning: POTCAR data with symbol S does not match any VASP POTCAR known to pymatgen. There is a possibility your POTCAR is corrupted or that the pymatgen database is incomplete.\n",
      "  warnings.warn(\n",
      "/root/miniconda3/envs/pyiron/lib/python3.10/site-packages/pymatgen/io/vasp/inputs.py:1819: UnknownPotcarWarning: POTCAR data with symbol Fe does not match any VASP POTCAR known to pymatgen. There is a possibility your POTCAR is corrupted or that the pymatgen database is incomplete.\n",
      "  warnings.warn(\n",
      "/root/miniconda3/envs/pyiron/lib/python3.10/site-packages/pymatgen/io/vasp/outputs.py:1098: UserWarning: No POTCAR file with matching TITEL fields was found in /root/personal_python_utilities/utils/tests/vasp_resources/nested_dirs/2\n",
      "  warnings.warn(f\"No POTCAR file with matching TITEL fields was found in {os.path.abspath(p)}\")\n",
      "/root/miniconda3/envs/pyiron/lib/python3.10/site-packages/pymatgen/io/vasp/inputs.py:1819: UnknownPotcarWarning: POTCAR data with symbol S does not match any VASP POTCAR known to pymatgen. There is a possibility your POTCAR is corrupted or that the pymatgen database is incomplete.\n",
      "  warnings.warn(\n",
      "/root/miniconda3/envs/pyiron/lib/python3.10/site-packages/pymatgen/io/vasp/inputs.py:1819: UnknownPotcarWarning: POTCAR data with symbol S does not match any VASP POTCAR known to pymatgen. There is a possibility your POTCAR is corrupted or that the pymatgen database is incomplete.\n",
      "  warnings.warn(\n",
      "/root/miniconda3/envs/pyiron/lib/python3.10/site-packages/pymatgen/io/vasp/inputs.py:1819: UnknownPotcarWarning: POTCAR data with symbol S does not match any VASP POTCAR known to pymatgen. There is a possibility your POTCAR is corrupted or that the pymatgen database is incomplete.\n",
      "  warnings.warn(\n",
      "/root/miniconda3/envs/pyiron/lib/python3.10/site-packages/pymatgen/io/vasp/inputs.py:1819: UnknownPotcarWarning: POTCAR data with symbol Fe does not match any VASP POTCAR known to pymatgen. There is a possibility your POTCAR is corrupted or that the pymatgen database is incomplete.\n",
      "  warnings.warn(\n",
      "/root/miniconda3/envs/pyiron/lib/python3.10/site-packages/pymatgen/io/vasp/outputs.py:1098: UserWarning: No POTCAR file with matching TITEL fields was found in /root/personal_python_utilities/utils/tests/vasp_resources/nested_dirs/3\n",
      "  warnings.warn(f\"No POTCAR file with matching TITEL fields was found in {os.path.abspath(p)}\")\n",
      "/root/miniconda3/envs/pyiron/lib/python3.10/site-packages/pymatgen/io/vasp/inputs.py:1819: UnknownPotcarWarning: POTCAR data with symbol Fe does not match any VASP POTCAR known to pymatgen. There is a possibility your POTCAR is corrupted or that the pymatgen database is incomplete.\n",
      "  warnings.warn(\n",
      "/root/miniconda3/envs/pyiron/lib/python3.10/site-packages/pymatgen/io/vasp/inputs.py:1819: UnknownPotcarWarning: POTCAR data with symbol Fe does not match any VASP POTCAR known to pymatgen. There is a possibility your POTCAR is corrupted or that the pymatgen database is incomplete.\n",
      "  warnings.warn(\n",
      "/root/miniconda3/envs/pyiron/lib/python3.10/site-packages/pymatgen/io/vasp/outputs.py:1098: UserWarning: No POTCAR file with matching TITEL fields was found in /root/personal_python_utilities/utils/tests/vasp_resources/nested_dirs/4\n",
      "  warnings.warn(f\"No POTCAR file with matching TITEL fields was found in {os.path.abspath(p)}\")\n",
      "/root/miniconda3/envs/pyiron/lib/python3.10/site-packages/pymatgen/io/vasp/inputs.py:1819: UnknownPotcarWarning: POTCAR data with symbol S does not match any VASP POTCAR known to pymatgen. There is a possibility your POTCAR is corrupted or that the pymatgen database is incomplete.\n",
      "  warnings.warn(\n",
      "/root/miniconda3/envs/pyiron/lib/python3.10/site-packages/pymatgen/io/vasp/inputs.py:1819: UnknownPotcarWarning: POTCAR data with symbol Fe does not match any VASP POTCAR known to pymatgen. There is a possibility your POTCAR is corrupted or that the pymatgen database is incomplete.\n",
      "  warnings.warn(\n",
      "/root/miniconda3/envs/pyiron/lib/python3.10/site-packages/pymatgen/io/vasp/outputs.py:1098: UserWarning: No POTCAR file with matching TITEL fields was found in /root/personal_python_utilities/utils/tests/vasp_resources/nested_dirs/1\n",
      "  warnings.warn(f\"No POTCAR file with matching TITEL fields was found in {os.path.abspath(p)}\")\n",
      "/root/miniconda3/envs/pyiron/lib/python3.10/site-packages/pymatgen/io/vasp/outputs.py:1098: UserWarning: No POTCAR file with matching TITEL fields was found in /root/personal_python_utilities/utils/tests/vasp_resources/1\n",
      "  warnings.warn(f\"No POTCAR file with matching TITEL fields was found in {os.path.abspath(p)}\")\n"
     ]
    },
    {
     "name": "stdout",
     "output_type": "stream",
     "text": [
      "Successful read of OUTCAR: /root/personal_python_utilities/utils/tests/vasp_resources/nested_dirs/2/OUTCAR\n",
      "Successful read of OUTCAR: /root/personal_python_utilities/utils/tests/vasp_resources/nested_dirs/3/OUTCAR\n",
      "Successful read of OUTCAR: /root/personal_python_utilities/utils/tests/vasp_resources/nested_dirs/4/OUTCAR\n",
      "Successful read of OUTCAR: /root/personal_python_utilities/utils/tests/vasp_resources/nested_dirs/1/OUTCAR\n",
      "Successful read of OUTCAR: /root/personal_python_utilities/utils/tests/vasp_resources/1/OUTCAR\n",
      "Elapsed time: 3.978 seconds\n"
     ]
    }
   ],
   "source": [
    "datagen = DatabaseGenerator(\"/root/personal_python_utilities/utils/tests/vasp_resources\")\n",
    "df = datagen.build_database()"
   ]
  },
  {
   "cell_type": "code",
   "execution_count": 9,
   "metadata": {},
   "outputs": [
    {
     "data": {
      "text/html": [
       "<div>\n",
       "<style scoped>\n",
       "    .dataframe tbody tr th:only-of-type {\n",
       "        vertical-align: middle;\n",
       "    }\n",
       "\n",
       "    .dataframe tbody tr th {\n",
       "        vertical-align: top;\n",
       "    }\n",
       "\n",
       "    .dataframe thead th {\n",
       "        text-align: right;\n",
       "    }\n",
       "</style>\n",
       "<table border=\"1\" class=\"dataframe\">\n",
       "  <thead>\n",
       "    <tr style=\"text-align: right;\">\n",
       "      <th></th>\n",
       "      <th>job_name</th>\n",
       "      <th>filepath</th>\n",
       "      <th>structures</th>\n",
       "      <th>energy</th>\n",
       "      <th>energy_zero</th>\n",
       "      <th>forces</th>\n",
       "      <th>stresses</th>\n",
       "      <th>magmoms</th>\n",
       "      <th>scf_steps</th>\n",
       "      <th>convergence</th>\n",
       "      <th>element_list</th>\n",
       "      <th>element_count</th>\n",
       "      <th>potcar_electron_count</th>\n",
       "      <th>total_electron_count</th>\n",
       "      <th>kpoints</th>\n",
       "      <th>incar</th>\n",
       "    </tr>\n",
       "  </thead>\n",
       "  <tbody>\n",
       "    <tr>\n",
       "      <th>0</th>\n",
       "      <td>1</td>\n",
       "      <td>/root/personal_python_utilities/utils/tests/va...</td>\n",
       "      <td>[{\"@module\": \"pymatgen.core.structure\", \"@clas...</td>\n",
       "      <td>[-607.92801379]</td>\n",
       "      <td>[-607.93041222]</td>\n",
       "      <td>[[[-4.7e-05, 0.005072, -0.000105], [4.8e-05, 0...</td>\n",
       "      <td>[[[-0.010610983606907959, 2.0596979944200003e-...</td>\n",
       "      <td>[[2.849, 2.848, 2.647, 2.647, 2.624, 2.622, 2....</td>\n",
       "      <td>[43]</td>\n",
       "      <td>True</td>\n",
       "      <td>[Fe, S, Fe]</td>\n",
       "      <td>[33, 1, 42]</td>\n",
       "      <td>[8.0, 6.0, 8.0]</td>\n",
       "      <td>606.0</td>\n",
       "      <td>{\"comment\": \"Automatic kpoint scheme\", \"nkpoin...</td>\n",
       "      <td>{\"ALGO\": \"Fast\", \"AMIX\": 0.01, \"AMIX_MAG\": 0.1...</td>\n",
       "    </tr>\n",
       "    <tr>\n",
       "      <th>0</th>\n",
       "      <td>4</td>\n",
       "      <td>/root/personal_python_utilities/utils/tests/va...</td>\n",
       "      <td>[{\"@module\": \"pymatgen.core.structure\", \"@clas...</td>\n",
       "      <td>[-607.92801379]</td>\n",
       "      <td>[-607.93041222]</td>\n",
       "      <td>[[[-4.7e-05, 0.005072, -0.000105], [4.8e-05, 0...</td>\n",
       "      <td>[[[-0.010610983606907959, 2.0596979944200003e-...</td>\n",
       "      <td>[[2.849, 2.848, 2.647, 2.647, 2.624, 2.622, 2....</td>\n",
       "      <td>[43]</td>\n",
       "      <td>True</td>\n",
       "      <td>[Fe, S, Fe]</td>\n",
       "      <td>[33, 1, 42]</td>\n",
       "      <td>[8.0, 6.0, 8.0]</td>\n",
       "      <td>606.0</td>\n",
       "      <td>{\"comment\": \"Automatic kpoint scheme\", \"nkpoin...</td>\n",
       "      <td>{\"ALGO\": \"Fast\", \"AMIX\": 0.01, \"AMIX_MAG\": 0.1...</td>\n",
       "    </tr>\n",
       "    <tr>\n",
       "      <th>0</th>\n",
       "      <td>2</td>\n",
       "      <td>/root/personal_python_utilities/utils/tests/va...</td>\n",
       "      <td>[{\"@module\": \"pymatgen.core.structure\", \"@clas...</td>\n",
       "      <td>[-607.92801379]</td>\n",
       "      <td>[-607.93041222]</td>\n",
       "      <td>[[[-4.7e-05, 0.005072, -0.000105], [4.8e-05, 0...</td>\n",
       "      <td>[[[-0.010610983606907959, 2.0596979944200003e-...</td>\n",
       "      <td>[[2.849, 2.848, 2.647, 2.647, 2.624, 2.622, 2....</td>\n",
       "      <td>[43]</td>\n",
       "      <td>True</td>\n",
       "      <td>[Fe, S, Fe]</td>\n",
       "      <td>[33, 1, 42]</td>\n",
       "      <td>[8.0, 6.0, 8.0]</td>\n",
       "      <td>606.0</td>\n",
       "      <td>{\"comment\": \"Automatic kpoint scheme\", \"nkpoin...</td>\n",
       "      <td>{\"ALGO\": \"Fast\", \"AMIX\": 0.01, \"AMIX_MAG\": 0.1...</td>\n",
       "    </tr>\n",
       "    <tr>\n",
       "      <th>0</th>\n",
       "      <td>1</td>\n",
       "      <td>/root/personal_python_utilities/utils/tests/va...</td>\n",
       "      <td>[{\"@module\": \"pymatgen.core.structure\", \"@clas...</td>\n",
       "      <td>[-607.92801379]</td>\n",
       "      <td>[-607.93041222]</td>\n",
       "      <td>[[[-4.7e-05, 0.005072, -0.000105], [4.8e-05, 0...</td>\n",
       "      <td>[[[-0.010610983606907959, 2.0596979944200003e-...</td>\n",
       "      <td>[[2.849, 2.848, 2.647, 2.647, 2.624, 2.622, 2....</td>\n",
       "      <td>[43]</td>\n",
       "      <td>True</td>\n",
       "      <td>[Fe, S, Fe]</td>\n",
       "      <td>[33, 1, 42]</td>\n",
       "      <td>[8.0, 6.0, 8.0]</td>\n",
       "      <td>606.0</td>\n",
       "      <td>{\"comment\": \"Automatic kpoint scheme\", \"nkpoin...</td>\n",
       "      <td>{\"ALGO\": \"Fast\", \"AMIX\": 0.01, \"AMIX_MAG\": 0.1...</td>\n",
       "    </tr>\n",
       "    <tr>\n",
       "      <th>0</th>\n",
       "      <td>3</td>\n",
       "      <td>/root/personal_python_utilities/utils/tests/va...</td>\n",
       "      <td>[{\"@module\": \"pymatgen.core.structure\", \"@clas...</td>\n",
       "      <td>[-607.92801379]</td>\n",
       "      <td>[-607.93041222]</td>\n",
       "      <td>[[[-4.7e-05, 0.005072, -0.000105], [4.8e-05, 0...</td>\n",
       "      <td>[[[-0.010610983606907959, 2.0596979944200003e-...</td>\n",
       "      <td>[[2.849, 2.848, 2.647, 2.647, 2.624, 2.622, 2....</td>\n",
       "      <td>[43]</td>\n",
       "      <td>True</td>\n",
       "      <td>[Fe, S, Fe]</td>\n",
       "      <td>[33, 1, 42]</td>\n",
       "      <td>[8.0, 6.0, 8.0]</td>\n",
       "      <td>606.0</td>\n",
       "      <td>{\"comment\": \"Automatic kpoint scheme\", \"nkpoin...</td>\n",
       "      <td>{\"ALGO\": \"Fast\", \"AMIX\": 0.01, \"AMIX_MAG\": 0.1...</td>\n",
       "    </tr>\n",
       "  </tbody>\n",
       "</table>\n",
       "</div>"
      ],
      "text/plain": [
       "  job_name                                           filepath   \n",
       "0        1  /root/personal_python_utilities/utils/tests/va...  \\\n",
       "0        4  /root/personal_python_utilities/utils/tests/va...   \n",
       "0        2  /root/personal_python_utilities/utils/tests/va...   \n",
       "0        1  /root/personal_python_utilities/utils/tests/va...   \n",
       "0        3  /root/personal_python_utilities/utils/tests/va...   \n",
       "\n",
       "                                          structures           energy   \n",
       "0  [{\"@module\": \"pymatgen.core.structure\", \"@clas...  [-607.92801379]  \\\n",
       "0  [{\"@module\": \"pymatgen.core.structure\", \"@clas...  [-607.92801379]   \n",
       "0  [{\"@module\": \"pymatgen.core.structure\", \"@clas...  [-607.92801379]   \n",
       "0  [{\"@module\": \"pymatgen.core.structure\", \"@clas...  [-607.92801379]   \n",
       "0  [{\"@module\": \"pymatgen.core.structure\", \"@clas...  [-607.92801379]   \n",
       "\n",
       "       energy_zero                                             forces   \n",
       "0  [-607.93041222]  [[[-4.7e-05, 0.005072, -0.000105], [4.8e-05, 0...  \\\n",
       "0  [-607.93041222]  [[[-4.7e-05, 0.005072, -0.000105], [4.8e-05, 0...   \n",
       "0  [-607.93041222]  [[[-4.7e-05, 0.005072, -0.000105], [4.8e-05, 0...   \n",
       "0  [-607.93041222]  [[[-4.7e-05, 0.005072, -0.000105], [4.8e-05, 0...   \n",
       "0  [-607.93041222]  [[[-4.7e-05, 0.005072, -0.000105], [4.8e-05, 0...   \n",
       "\n",
       "                                            stresses   \n",
       "0  [[[-0.010610983606907959, 2.0596979944200003e-...  \\\n",
       "0  [[[-0.010610983606907959, 2.0596979944200003e-...   \n",
       "0  [[[-0.010610983606907959, 2.0596979944200003e-...   \n",
       "0  [[[-0.010610983606907959, 2.0596979944200003e-...   \n",
       "0  [[[-0.010610983606907959, 2.0596979944200003e-...   \n",
       "\n",
       "                                             magmoms scf_steps  convergence   \n",
       "0  [[2.849, 2.848, 2.647, 2.647, 2.624, 2.622, 2....      [43]         True  \\\n",
       "0  [[2.849, 2.848, 2.647, 2.647, 2.624, 2.622, 2....      [43]         True   \n",
       "0  [[2.849, 2.848, 2.647, 2.647, 2.624, 2.622, 2....      [43]         True   \n",
       "0  [[2.849, 2.848, 2.647, 2.647, 2.624, 2.622, 2....      [43]         True   \n",
       "0  [[2.849, 2.848, 2.647, 2.647, 2.624, 2.622, 2....      [43]         True   \n",
       "\n",
       "  element_list element_count potcar_electron_count  total_electron_count   \n",
       "0  [Fe, S, Fe]   [33, 1, 42]       [8.0, 6.0, 8.0]                 606.0  \\\n",
       "0  [Fe, S, Fe]   [33, 1, 42]       [8.0, 6.0, 8.0]                 606.0   \n",
       "0  [Fe, S, Fe]   [33, 1, 42]       [8.0, 6.0, 8.0]                 606.0   \n",
       "0  [Fe, S, Fe]   [33, 1, 42]       [8.0, 6.0, 8.0]                 606.0   \n",
       "0  [Fe, S, Fe]   [33, 1, 42]       [8.0, 6.0, 8.0]                 606.0   \n",
       "\n",
       "                                             kpoints   \n",
       "0  {\"comment\": \"Automatic kpoint scheme\", \"nkpoin...  \\\n",
       "0  {\"comment\": \"Automatic kpoint scheme\", \"nkpoin...   \n",
       "0  {\"comment\": \"Automatic kpoint scheme\", \"nkpoin...   \n",
       "0  {\"comment\": \"Automatic kpoint scheme\", \"nkpoin...   \n",
       "0  {\"comment\": \"Automatic kpoint scheme\", \"nkpoin...   \n",
       "\n",
       "                                               incar  \n",
       "0  {\"ALGO\": \"Fast\", \"AMIX\": 0.01, \"AMIX_MAG\": 0.1...  \n",
       "0  {\"ALGO\": \"Fast\", \"AMIX\": 0.01, \"AMIX_MAG\": 0.1...  \n",
       "0  {\"ALGO\": \"Fast\", \"AMIX\": 0.01, \"AMIX_MAG\": 0.1...  \n",
       "0  {\"ALGO\": \"Fast\", \"AMIX\": 0.01, \"AMIX_MAG\": 0.1...  \n",
       "0  {\"ALGO\": \"Fast\", \"AMIX\": 0.01, \"AMIX_MAG\": 0.1...  "
      ]
     },
     "execution_count": 9,
     "metadata": {},
     "output_type": "execute_result"
    }
   ],
   "source": [
    "df"
   ]
  },
  {
   "cell_type": "code",
   "execution_count": 9,
   "metadata": {},
   "outputs": [],
   "source": [
    "from pymatgen.io.vasp import Kpoints\n",
    "\n",
    "a = Kpoints.from_file(\"/root/personal_python_utilities/utils/tests/vasp_resources/1/KPOINTS\")"
   ]
  },
  {
   "cell_type": "code",
   "execution_count": 10,
   "metadata": {},
   "outputs": [
    {
     "data": {
      "text/plain": [
       "Automatic kpoint scheme\n",
       "0\n",
       "Gamma\n",
       "4 4 1"
      ]
     },
     "execution_count": 10,
     "metadata": {},
     "output_type": "execute_result"
    }
   ],
   "source": [
    "a_asdict = a.as_dict()\n",
    "asdf = Kpoints.from_dict(a_asdict)\n",
    "asdf"
   ]
  },
  {
   "cell_type": "code",
   "execution_count": 11,
   "metadata": {},
   "outputs": [
    {
     "data": {
      "text/plain": [
       "[4, 4, 1]"
      ]
     },
     "execution_count": 11,
     "metadata": {},
     "output_type": "execute_result"
    }
   ],
   "source": [
    "asdf.kpts[0]"
   ]
  },
  {
   "cell_type": "code",
   "execution_count": 12,
   "metadata": {},
   "outputs": [
    {
     "data": {
      "text/plain": [
       "'Automatic kpoint scheme'"
      ]
     },
     "execution_count": 12,
     "metadata": {},
     "output_type": "execute_result"
    }
   ],
   "source": [
    "asdf.comment"
   ]
  },
  {
   "cell_type": "code",
   "execution_count": 13,
   "metadata": {},
   "outputs": [
    {
     "data": {
      "text/plain": [
       "Automatic kpoint scheme\n",
       "0\n",
       "Gamma\n",
       "4 4 1"
      ]
     },
     "execution_count": 13,
     "metadata": {},
     "output_type": "execute_result"
    }
   ],
   "source": [
    "asdf"
   ]
  },
  {
   "cell_type": "code",
   "execution_count": 20,
   "metadata": {},
   "outputs": [
    {
     "data": {
      "text/plain": [
       "<enum 'Kpoints_supported_modes'>"
      ]
     },
     "execution_count": 20,
     "metadata": {},
     "output_type": "execute_result"
    }
   ],
   "source": [
    "type(asdf.style)"
   ]
  },
  {
   "cell_type": "code",
   "execution_count": 26,
   "metadata": {},
   "outputs": [
    {
     "data": {
      "text/plain": [
       "<enum 'Kpoints_supported_modes'>"
      ]
     },
     "execution_count": 26,
     "metadata": {},
     "output_type": "execute_result"
    }
   ],
   "source": [
    "Kpoints.supported_modes.from"
   ]
  },
  {
   "cell_type": "code",
   "execution_count": 25,
   "metadata": {},
   "outputs": [
    {
     "name": "stdout",
     "output_type": "stream",
     "text": [
      "\u001b[0;31mType:\u001b[0m        property\n",
      "\u001b[0;31mString form:\u001b[0m <property object at 0x7f99abba4e50>\n",
      "\u001b[0;31mSource:\u001b[0m     \n",
      "\u001b[0;31m# asdf.style.fget\u001b[0m\u001b[0;34m\u001b[0m\n",
      "\u001b[0;34m\u001b[0m\u001b[0;34m@\u001b[0m\u001b[0mproperty\u001b[0m\u001b[0;34m\u001b[0m\n",
      "\u001b[0;34m\u001b[0m\u001b[0;32mdef\u001b[0m \u001b[0mstyle\u001b[0m\u001b[0;34m(\u001b[0m\u001b[0mself\u001b[0m\u001b[0;34m)\u001b[0m\u001b[0;34m:\u001b[0m\u001b[0;34m\u001b[0m\n",
      "\u001b[0;34m\u001b[0m    \u001b[0;34m\"\"\"\u001b[0m\n",
      "\u001b[0;34m    :return: Style for kpoint generation. One of Kpoints_supported_modes\u001b[0m\n",
      "\u001b[0;34m        enum.\u001b[0m\n",
      "\u001b[0;34m    \"\"\"\u001b[0m\u001b[0;34m\u001b[0m\n",
      "\u001b[0;34m\u001b[0m    \u001b[0;32mreturn\u001b[0m \u001b[0mself\u001b[0m\u001b[0;34m.\u001b[0m\u001b[0m_style\u001b[0m\u001b[0;34m\u001b[0m\n",
      "\u001b[0;34m\u001b[0m\u001b[0;34m\u001b[0m\n",
      "\u001b[0;34m\u001b[0m\u001b[0;31m# asdf.style.fset\u001b[0m\u001b[0;34m\u001b[0m\n",
      "\u001b[0;34m\u001b[0m\u001b[0;34m@\u001b[0m\u001b[0mstyle\u001b[0m\u001b[0;34m.\u001b[0m\u001b[0msetter\u001b[0m\u001b[0;34m\u001b[0m\n",
      "\u001b[0;34m\u001b[0m\u001b[0;32mdef\u001b[0m \u001b[0mstyle\u001b[0m\u001b[0;34m(\u001b[0m\u001b[0mself\u001b[0m\u001b[0;34m,\u001b[0m \u001b[0mstyle\u001b[0m\u001b[0;34m)\u001b[0m\u001b[0;34m:\u001b[0m\u001b[0;34m\u001b[0m\n",
      "\u001b[0;34m\u001b[0m    \u001b[0;34m\"\"\"\u001b[0m\n",
      "\u001b[0;34m    :param style: Style\u001b[0m\n",
      "\u001b[0;34m    :return: Sets the style for the Kpoints. One of Kpoints_supported_modes\u001b[0m\n",
      "\u001b[0;34m        enum.\u001b[0m\n",
      "\u001b[0;34m    \"\"\"\u001b[0m\u001b[0;34m\u001b[0m\n",
      "\u001b[0;34m\u001b[0m    \u001b[0;32mif\u001b[0m \u001b[0misinstance\u001b[0m\u001b[0;34m(\u001b[0m\u001b[0mstyle\u001b[0m\u001b[0;34m,\u001b[0m \u001b[0mstr\u001b[0m\u001b[0;34m)\u001b[0m\u001b[0;34m:\u001b[0m\u001b[0;34m\u001b[0m\n",
      "\u001b[0;34m\u001b[0m        \u001b[0mstyle\u001b[0m \u001b[0;34m=\u001b[0m \u001b[0mKpoints\u001b[0m\u001b[0;34m.\u001b[0m\u001b[0msupported_modes\u001b[0m\u001b[0;34m.\u001b[0m\u001b[0mfrom_string\u001b[0m\u001b[0;34m(\u001b[0m\u001b[0mstyle\u001b[0m\u001b[0;34m)\u001b[0m\u001b[0;34m\u001b[0m\n",
      "\u001b[0;34m\u001b[0m\u001b[0;34m\u001b[0m\n",
      "\u001b[0;34m\u001b[0m    \u001b[0;32mif\u001b[0m \u001b[0;34m(\u001b[0m\u001b[0;34m\u001b[0m\n",
      "\u001b[0;34m\u001b[0m        \u001b[0mstyle\u001b[0m\u001b[0;34m\u001b[0m\n",
      "\u001b[0;34m\u001b[0m        \u001b[0;32min\u001b[0m \u001b[0;34m(\u001b[0m\u001b[0;34m\u001b[0m\n",
      "\u001b[0;34m\u001b[0m            \u001b[0mKpoints\u001b[0m\u001b[0;34m.\u001b[0m\u001b[0msupported_modes\u001b[0m\u001b[0;34m.\u001b[0m\u001b[0mAutomatic\u001b[0m\u001b[0;34m,\u001b[0m\u001b[0;34m\u001b[0m\n",
      "\u001b[0;34m\u001b[0m            \u001b[0mKpoints\u001b[0m\u001b[0;34m.\u001b[0m\u001b[0msupported_modes\u001b[0m\u001b[0;34m.\u001b[0m\u001b[0mGamma\u001b[0m\u001b[0;34m,\u001b[0m\u001b[0;34m\u001b[0m\n",
      "\u001b[0;34m\u001b[0m            \u001b[0mKpoints\u001b[0m\u001b[0;34m.\u001b[0m\u001b[0msupported_modes\u001b[0m\u001b[0;34m.\u001b[0m\u001b[0mMonkhorst\u001b[0m\u001b[0;34m,\u001b[0m\u001b[0;34m\u001b[0m\n",
      "\u001b[0;34m\u001b[0m        \u001b[0;34m)\u001b[0m\u001b[0;34m\u001b[0m\n",
      "\u001b[0;34m\u001b[0m        \u001b[0;32mand\u001b[0m \u001b[0mlen\u001b[0m\u001b[0;34m(\u001b[0m\u001b[0mself\u001b[0m\u001b[0;34m.\u001b[0m\u001b[0mkpts\u001b[0m\u001b[0;34m)\u001b[0m \u001b[0;34m>\u001b[0m \u001b[0;36m1\u001b[0m\u001b[0;34m\u001b[0m\n",
      "\u001b[0;34m\u001b[0m    \u001b[0;34m)\u001b[0m\u001b[0;34m:\u001b[0m\u001b[0;34m\u001b[0m\n",
      "\u001b[0;34m\u001b[0m        \u001b[0;32mraise\u001b[0m \u001b[0mValueError\u001b[0m\u001b[0;34m(\u001b[0m\u001b[0;34m\u001b[0m\n",
      "\u001b[0;34m\u001b[0m            \u001b[0;34m\"For fully automatic or automatic gamma or monk \"\u001b[0m\u001b[0;34m\u001b[0m\n",
      "\u001b[0;34m\u001b[0m            \u001b[0;34m\"kpoints, only a single line for the number of \"\u001b[0m\u001b[0;34m\u001b[0m\n",
      "\u001b[0;34m\u001b[0m            \u001b[0;34m\"divisions is allowed.\"\u001b[0m\u001b[0;34m\u001b[0m\n",
      "\u001b[0;34m\u001b[0m        \u001b[0;34m)\u001b[0m\u001b[0;34m\u001b[0m\n",
      "\u001b[0;34m\u001b[0m\u001b[0;34m\u001b[0m\n",
      "\u001b[0;34m\u001b[0m    \u001b[0mself\u001b[0m\u001b[0;34m.\u001b[0m\u001b[0m_style\u001b[0m \u001b[0;34m=\u001b[0m \u001b[0mstyle\u001b[0m\u001b[0;34m\u001b[0m\u001b[0;34m\u001b[0m\u001b[0m"
     ]
    }
   ],
   "source": [
    "asdf.style??"
   ]
  },
  {
   "cell_type": "code",
   "execution_count": 14,
   "metadata": {},
   "outputs": [],
   "source": [
    "meshstyle = asdf.style"
   ]
  },
  {
   "cell_type": "code",
   "execution_count": 15,
   "metadata": {},
   "outputs": [
    {
     "data": {
      "text/plain": [
       "<enum 'Kpoints_supported_modes'>"
      ]
     },
     "execution_count": 15,
     "metadata": {},
     "output_type": "execute_result"
    }
   ],
   "source": [
    "type(meshstyle)"
   ]
  },
  {
   "cell_type": "code",
   "execution_count": 1,
   "metadata": {},
   "outputs": [],
   "source": [
    "import utils.generic as gen_utils\n",
    "\n",
    "gen_utils.find_and_extract_files_from_tarballs_parallel(parent_dir=parent_dir,\n",
    "                                                        extension=\".tar.gz\",\n",
    "                                                        filenames=[\"INCAR\", \"POTCAR\", \"KPOINTS\", \"CONTCAR\", \"OUTCAR\", \"vasprun.xml\", \"vasp.log\"])"
   ]
  },
  {
   "cell_type": "code",
   "execution_count": 4,
   "metadata": {},
   "outputs": [
    {
     "name": "stdout",
     "output_type": "stream",
     "text": [
      "# Processes: 5\n",
      "Processors available: 16\n",
      "CPUs used: 5\n"
     ]
    }
   ],
   "source": [
    "parent_dir = \"/root/personal_python_utilities/utils/tests/vasp_resources\"\n",
    "gen_utils.find_and_extract_files_from_tarballs_parallel(parent_dir=parent_dir,\n",
    "                                                        extension=\".tar.gz\",\n",
    "                                                        filenames=[\"INCAR\", \"POTCAR\", \"KPOINTS\", \"CONTCAR\", \"OUTCAR\", \"vasprun.xml\", \"vasp.log\"])"
   ]
  },
  {
   "cell_type": "code",
   "execution_count": null,
   "metadata": {},
   "outputs": [],
   "source": [
    "import argparse\n",
    "from utils.generic import find_and_compress_directories_parallel\n",
    "import os\n",
    "\n",
    "def main():\n",
    "    parser = argparse.ArgumentParser(description='Find and compress directories based on specified criteria.')\n",
    "    parser.add_argument('directory', metavar='DIR', type=str, help='the directory to operate on')\n",
    "    args = parser.parse_args()\n",
    "\n",
    "    find_and_compress_directories_parallel(\n",
    "        parent_dir=args.directory,\n",
    "        valid_dir_if_filenames=[\"INCAR\", \"POTCAR\"],\n",
    "        exclude_files_from_tarball=[\"CHG\", \"CHGCAR\"],\n",
    "        exclude_filepatterns_from_tarball=[\"AECCAR*\"],\n",
    "        keep_after=True,\n",
    "        files=[\"CHG\", \"CHGCAR\", \"OUTCAR\", \"vasp.log\", \"vasprun.xml\", \"VASP_DDEC_analysis.output\"],\n",
    "        file_patterns=[\"AECCAR*\"],\n",
    "        print_msg=True,\n",
    "        inside_dir=True\n",
    "    )\n",
    "\n",
    "if __name__ == '__main__':\n",
    "    main()\n"
   ]
  },
  {
   "cell_type": "code",
   "execution_count": null,
   "metadata": {},
   "outputs": [],
   "source": [
    "import argparse\n",
    "from utils.generic import find_and_extract_files_from_tarballs_parallel\n",
    "import os\n",
    "\n",
    "def main():\n",
    "    parser = argparse.ArgumentParser(description='Find and extract files from tarballs based on specified criteria.')\n",
    "    parser.add_argument('directory', metavar='DIR', type=str, help='the directory to operate on')\n",
    "    args = parser.parse_args()\n",
    "    find_and_extract_files_from_tarballs_parallel(parent_dir=args.directory,\n",
    "                                                    extension=\".tar.gz\",\n",
    "                                                    filenames=[\"INCAR\", \"POTCAR\", \"KPOINTS\", \"CONTCAR\", \"OUTCAR\", \"vasprun.xml\", \"vasp.log\"])\n",
    "    \n",
    "if __name__ == '__main__':\n",
    "    main()\n"
   ]
  }
 ],
 "metadata": {
  "kernelspec": {
   "display_name": "pyiron",
   "language": "python",
   "name": "python3"
  },
  "language_info": {
   "codemirror_mode": {
    "name": "ipython",
    "version": 3
   },
   "file_extension": ".py",
   "mimetype": "text/x-python",
   "name": "python",
   "nbconvert_exporter": "python",
   "pygments_lexer": "ipython3",
   "version": "3.10.10"
  },
  "orig_nbformat": 4
 },
 "nbformat": 4,
 "nbformat_minor": 2
}
