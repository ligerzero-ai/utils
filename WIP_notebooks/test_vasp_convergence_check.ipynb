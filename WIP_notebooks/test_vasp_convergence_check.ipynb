{
 "cells": [
  {
   "cell_type": "code",
   "execution_count": 1,
   "metadata": {},
   "outputs": [
    {
     "data": {
      "application/vnd.jupyter.widget-view+json": {
       "model_id": "41515684f0244dea9bb90c902aa84afb",
       "version_major": 2,
       "version_minor": 0
      },
      "text/plain": []
     },
     "metadata": {},
     "output_type": "display_data"
    }
   ],
   "source": [
    "import os\n",
    "import utils.generic as gen_tools\n",
    "from utils.vasp import parse_VASP_directory, check_convergence\n",
    "%load_ext autoreload\n",
    "%autoreload 2\n"
   ]
  },
  {
   "cell_type": "code",
   "execution_count": 2,
   "metadata": {},
   "outputs": [
    {
     "name": "stderr",
     "output_type": "stream",
     "text": [
      "/root/miniconda3/envs/pyiron/lib/python3.10/site-packages/pymatgen/io/vasp/inputs.py:1819: UnknownPotcarWarning: POTCAR data with symbol S does not match any VASP POTCAR known to pymatgen. There is a possibility your POTCAR is corrupted or that the pymatgen database is incomplete.\n",
      "  warnings.warn(\n",
      "/root/miniconda3/envs/pyiron/lib/python3.10/site-packages/pymatgen/io/vasp/inputs.py:1819: UnknownPotcarWarning: POTCAR data with symbol Fe does not match any VASP POTCAR known to pymatgen. There is a possibility your POTCAR is corrupted or that the pymatgen database is incomplete.\n",
      "  warnings.warn(\n",
      "/root/miniconda3/envs/pyiron/lib/python3.10/site-packages/pymatgen/io/vasp/outputs.py:1098: UserWarning: No POTCAR file with matching TITEL fields was found in /root/personal_python_utilities/test_utils/init_test_compress_and_cleanup\n",
      "  warnings.warn(f\"No POTCAR file with matching TITEL fields was found in {os.path.abspath(p)}\")\n"
     ]
    },
    {
     "data": {
      "text/plain": [
       "True"
      ]
     },
     "execution_count": 2,
     "metadata": {},
     "output_type": "execute_result"
    }
   ],
   "source": [
    "test_dir = \"/root/personal_python_utilities/test_utils/init_test_compress_and_cleanup\"\n",
    "check_convergence(test_dir)"
   ]
  },
  {
   "cell_type": "code",
   "execution_count": 3,
   "metadata": {},
   "outputs": [
    {
     "name": "stdout",
     "output_type": "stream",
     "text": [
      "Successful read of OUTCAR: /root/personal_python_utilities/test_utils/init_test_compress_and_cleanup/OUTCAR\n"
     ]
    },
    {
     "ename": "TypeError",
     "evalue": "ufunc 'isnan' not supported for the input types, and the inputs could not be safely coerced to any supported types according to the casting rule ''safe''",
     "output_type": "error",
     "traceback": [
      "\u001b[0;31m---------------------------------------------------------------------------\u001b[0m",
      "\u001b[0;31mTypeError\u001b[0m                                 Traceback (most recent call last)",
      "Cell \u001b[0;32mIn[3], line 1\u001b[0m\n\u001b[0;32m----> 1\u001b[0m parse_VASP_directory(directory\u001b[39m=\u001b[39;49mtest_dir)\n",
      "File \u001b[0;32m~/personal_python_utilities/utils/vasp.py:247\u001b[0m, in \u001b[0;36mparse_VASP_directory\u001b[0;34m(directory, INCAR_filename, KPOINTS_filename, POTCAR_filename, OUTCAR_filename, vasprunxml_filename, vasplog_filename)\u001b[0m\n\u001b[1;32m    245\u001b[0m df[\u001b[39m\"\u001b[39m\u001b[39mtotal_electron_count\u001b[39m\u001b[39m\"\u001b[39m] \u001b[39m=\u001b[39m [electron_count]\n\u001b[1;32m    246\u001b[0m df[\u001b[39m\"\u001b[39m\u001b[39mconvergence\u001b[39m\u001b[39m\"\u001b[39m] \u001b[39m=\u001b[39m [convergence]\n\u001b[0;32m--> 247\u001b[0m df[\u001b[39m\"\u001b[39m\u001b[39mkpoints\u001b[39m\u001b[39m\"\u001b[39m] \u001b[39m=\u001b[39m [kpoints\u001b[39m.\u001b[39mto_json() \u001b[39mif\u001b[39;00m \u001b[39mnot\u001b[39;00m np\u001b[39m.\u001b[39;49misnan(kpoints) \u001b[39melse\u001b[39;00m kpoints]\n\u001b[1;32m    248\u001b[0m df[\u001b[39m\"\u001b[39m\u001b[39mincar\u001b[39m\u001b[39m\"\u001b[39m] \u001b[39m=\u001b[39m [incar\u001b[39m.\u001b[39mto_json() \u001b[39mif\u001b[39;00m \u001b[39mnot\u001b[39;00m np\u001b[39m.\u001b[39misnan(kpoints) \u001b[39melse\u001b[39;00m incar]\n\u001b[1;32m    250\u001b[0m \u001b[39mreturn\u001b[39;00m df\n",
      "\u001b[0;31mTypeError\u001b[0m: ufunc 'isnan' not supported for the input types, and the inputs could not be safely coerced to any supported types according to the casting rule ''safe''"
     ]
    }
   ],
   "source": [
    "parse_VASP_directory(directory=test_dir)"
   ]
  },
  {
   "cell_type": "code",
   "execution_count": null,
   "metadata": {},
   "outputs": [],
   "source": [
    "from utils.vasp import DatabaseGenerator"
   ]
  },
  {
   "cell_type": "code",
   "execution_count": null,
   "metadata": {},
   "outputs": [
    {
     "name": "stdout",
     "output_type": "stream",
     "text": [
      "# Processes: 2\n",
      "Processors available: 16\n",
      "CPUs used: 2\n"
     ]
    },
    {
     "name": "stdout",
     "output_type": "stream",
     "text": [
      "# Processes: 2\n",
      "Processors available: 16\n",
      "CPUs used: 2\n"
     ]
    },
    {
     "name": "stderr",
     "output_type": "stream",
     "text": [
      "/root/miniconda3/envs/pyiron/lib/python3.10/site-packages/pymatgen/io/vasp/inputs.py:1819: UnknownPotcarWarning: POTCAR data with symbol S does not match any VASP POTCAR known to pymatgen. There is a possibility your POTCAR is corrupted or that the pymatgen database is incomplete.\n",
      "  warnings.warn(\n",
      "/root/miniconda3/envs/pyiron/lib/python3.10/site-packages/pymatgen/io/vasp/inputs.py:1819: UnknownPotcarWarning: POTCAR data with symbol S does not match any VASP POTCAR known to pymatgen. There is a possibility your POTCAR is corrupted or that the pymatgen database is incomplete.\n",
      "  warnings.warn(\n",
      "/root/miniconda3/envs/pyiron/lib/python3.10/site-packages/pymatgen/io/vasp/inputs.py:1819: UnknownPotcarWarning: POTCAR data with symbol Fe does not match any VASP POTCAR known to pymatgen. There is a possibility your POTCAR is corrupted or that the pymatgen database is incomplete.\n",
      "  warnings.warn(\n",
      "/root/miniconda3/envs/pyiron/lib/python3.10/site-packages/pymatgen/io/vasp/outputs.py:1098: UserWarning: No POTCAR file with matching TITEL fields was found in /root/personal_python_utilities/utils/tests/vasp_resources\n",
      "  warnings.warn(f\"No POTCAR file with matching TITEL fields was found in {os.path.abspath(p)}\")\n",
      "/root/miniconda3/envs/pyiron/lib/python3.10/site-packages/pymatgen/io/vasp/inputs.py:1819: UnknownPotcarWarning: POTCAR data with symbol Fe does not match any VASP POTCAR known to pymatgen. There is a possibility your POTCAR is corrupted or that the pymatgen database is incomplete.\n",
      "  warnings.warn(\n",
      "/root/miniconda3/envs/pyiron/lib/python3.10/site-packages/pymatgen/io/vasp/outputs.py:1098: UserWarning: No POTCAR file with matching TITEL fields was found in /root/personal_python_utilities/utils/tests/vasp_resources/test_build_database_some_compressed\n",
      "  warnings.warn(f\"No POTCAR file with matching TITEL fields was found in {os.path.abspath(p)}\")\n"
     ]
    },
    {
     "name": "stdout",
     "output_type": "stream",
     "text": [
      "Successful read of OUTCAR: /root/personal_python_utilities/utils/tests/vasp_resources/OUTCAR\n",
      "Successful read of OUTCAR: /root/personal_python_utilities/utils/tests/vasp_resources/test_build_database_some_compressed/OUTCAR\n",
      "Elapsed time: 3.976 seconds\n"
     ]
    }
   ],
   "source": [
    "datagen = DatabaseGenerator(\"/root/personal_python_utilities/utils/tests/vasp_resources\")\n",
    "df = datagen.build_database()"
   ]
  },
  {
   "cell_type": "code",
   "execution_count": null,
   "metadata": {},
   "outputs": [
    {
     "data": {
      "text/html": [
       "<div>\n",
       "<style scoped>\n",
       "    .dataframe tbody tr th:only-of-type {\n",
       "        vertical-align: middle;\n",
       "    }\n",
       "\n",
       "    .dataframe tbody tr th {\n",
       "        vertical-align: top;\n",
       "    }\n",
       "\n",
       "    .dataframe thead th {\n",
       "        text-align: right;\n",
       "    }\n",
       "</style>\n",
       "<table border=\"1\" class=\"dataframe\">\n",
       "  <thead>\n",
       "    <tr style=\"text-align: right;\">\n",
       "      <th></th>\n",
       "      <th>job_name</th>\n",
       "      <th>filepath</th>\n",
       "      <th>structures</th>\n",
       "      <th>energy</th>\n",
       "      <th>energy_zero</th>\n",
       "      <th>forces</th>\n",
       "      <th>stresses</th>\n",
       "      <th>magmoms</th>\n",
       "      <th>scf_steps</th>\n",
       "      <th>convergence</th>\n",
       "      <th>element_list</th>\n",
       "      <th>element_count</th>\n",
       "      <th>potcar_electron_count</th>\n",
       "      <th>total_electron_count</th>\n",
       "      <th>kpoints</th>\n",
       "      <th>incar</th>\n",
       "    </tr>\n",
       "  </thead>\n",
       "  <tbody>\n",
       "    <tr>\n",
       "      <th>0</th>\n",
       "      <td>vasp_resources</td>\n",
       "      <td>/root/personal_python_utilities/utils/tests/va...</td>\n",
       "      <td>[{\"@module\": \"pymatgen.core.structure\", \"@clas...</td>\n",
       "      <td>[-607.92801379]</td>\n",
       "      <td>[-607.93041222]</td>\n",
       "      <td>[[[-4.7e-05, 0.005072, -0.000105], [4.8e-05, 0...</td>\n",
       "      <td>[[[-0.010610983606907959, 2.0596979944200003e-...</td>\n",
       "      <td>[[2.849, 2.848, 2.647, 2.647, 2.624, 2.622, 2....</td>\n",
       "      <td>[43]</td>\n",
       "      <td>True</td>\n",
       "      <td>[Fe, S, Fe]</td>\n",
       "      <td>[33, 1, 42]</td>\n",
       "      <td>[8.0, 6.0, 8.0]</td>\n",
       "      <td>606.0</td>\n",
       "      <td>{\"comment\": \"Automatic kpoint scheme\", \"nkpoin...</td>\n",
       "      <td>{\"ALGO\": \"Fast\", \"AMIX\": 0.01, \"AMIX_MAG\": 0.1...</td>\n",
       "    </tr>\n",
       "    <tr>\n",
       "      <th>0</th>\n",
       "      <td>test_build_database_some_compressed</td>\n",
       "      <td>/root/personal_python_utilities/utils/tests/va...</td>\n",
       "      <td>[{\"@module\": \"pymatgen.core.structure\", \"@clas...</td>\n",
       "      <td>[-607.92801379]</td>\n",
       "      <td>[-607.93041222]</td>\n",
       "      <td>[[[-4.7e-05, 0.005072, -0.000105], [4.8e-05, 0...</td>\n",
       "      <td>[[[-0.010610983606907959, 2.0596979944200003e-...</td>\n",
       "      <td>[[2.849, 2.848, 2.647, 2.647, 2.624, 2.622, 2....</td>\n",
       "      <td>[43]</td>\n",
       "      <td>True</td>\n",
       "      <td>[Fe, S, Fe]</td>\n",
       "      <td>[33, 1, 42]</td>\n",
       "      <td>[8.0, 6.0, 8.0]</td>\n",
       "      <td>606.0</td>\n",
       "      <td>{\"comment\": \"Automatic kpoint scheme\", \"nkpoin...</td>\n",
       "      <td>{\"ALGO\": \"Fast\", \"AMIX\": 0.01, \"AMIX_MAG\": 0.1...</td>\n",
       "    </tr>\n",
       "  </tbody>\n",
       "</table>\n",
       "</div>"
      ],
      "text/plain": [
       "                              job_name   \n",
       "0                       vasp_resources  \\\n",
       "0  test_build_database_some_compressed   \n",
       "\n",
       "                                            filepath   \n",
       "0  /root/personal_python_utilities/utils/tests/va...  \\\n",
       "0  /root/personal_python_utilities/utils/tests/va...   \n",
       "\n",
       "                                          structures           energy   \n",
       "0  [{\"@module\": \"pymatgen.core.structure\", \"@clas...  [-607.92801379]  \\\n",
       "0  [{\"@module\": \"pymatgen.core.structure\", \"@clas...  [-607.92801379]   \n",
       "\n",
       "       energy_zero                                             forces   \n",
       "0  [-607.93041222]  [[[-4.7e-05, 0.005072, -0.000105], [4.8e-05, 0...  \\\n",
       "0  [-607.93041222]  [[[-4.7e-05, 0.005072, -0.000105], [4.8e-05, 0...   \n",
       "\n",
       "                                            stresses   \n",
       "0  [[[-0.010610983606907959, 2.0596979944200003e-...  \\\n",
       "0  [[[-0.010610983606907959, 2.0596979944200003e-...   \n",
       "\n",
       "                                             magmoms scf_steps  convergence   \n",
       "0  [[2.849, 2.848, 2.647, 2.647, 2.624, 2.622, 2....      [43]         True  \\\n",
       "0  [[2.849, 2.848, 2.647, 2.647, 2.624, 2.622, 2....      [43]         True   \n",
       "\n",
       "  element_list element_count potcar_electron_count  total_electron_count   \n",
       "0  [Fe, S, Fe]   [33, 1, 42]       [8.0, 6.0, 8.0]                 606.0  \\\n",
       "0  [Fe, S, Fe]   [33, 1, 42]       [8.0, 6.0, 8.0]                 606.0   \n",
       "\n",
       "                                             kpoints   \n",
       "0  {\"comment\": \"Automatic kpoint scheme\", \"nkpoin...  \\\n",
       "0  {\"comment\": \"Automatic kpoint scheme\", \"nkpoin...   \n",
       "\n",
       "                                               incar  \n",
       "0  {\"ALGO\": \"Fast\", \"AMIX\": 0.01, \"AMIX_MAG\": 0.1...  \n",
       "0  {\"ALGO\": \"Fast\", \"AMIX\": 0.01, \"AMIX_MAG\": 0.1...  "
      ]
     },
     "execution_count": 6,
     "metadata": {},
     "output_type": "execute_result"
    }
   ],
   "source": [
    "df"
   ]
  },
  {
   "cell_type": "code",
   "execution_count": null,
   "metadata": {},
   "outputs": [
    {
     "ename": "FileNotFoundError",
     "evalue": "[Errno 2] No such file or directory: '/root/personal_python_utilities/utils/tests/vasp_resources/1/KPOINTS'",
     "output_type": "error",
     "traceback": [
      "\u001b[0;31m---------------------------------------------------------------------------\u001b[0m",
      "\u001b[0;31mFileNotFoundError\u001b[0m                         Traceback (most recent call last)",
      "Cell \u001b[0;32mIn[7], line 3\u001b[0m\n\u001b[1;32m      1\u001b[0m \u001b[39mfrom\u001b[39;00m \u001b[39mpymatgen\u001b[39;00m\u001b[39m.\u001b[39;00m\u001b[39mio\u001b[39;00m\u001b[39m.\u001b[39;00m\u001b[39mvasp\u001b[39;00m \u001b[39mimport\u001b[39;00m Kpoints\n\u001b[0;32m----> 3\u001b[0m a \u001b[39m=\u001b[39m Kpoints\u001b[39m.\u001b[39;49mfrom_file(\u001b[39m\"\u001b[39;49m\u001b[39m/root/personal_python_utilities/utils/tests/vasp_resources/1/KPOINTS\u001b[39;49m\u001b[39m\"\u001b[39;49m)\n",
      "File \u001b[0;32m~/miniconda3/envs/pyiron/lib/python3.10/site-packages/pymatgen/io/vasp/inputs.py:1370\u001b[0m, in \u001b[0;36mKpoints.from_file\u001b[0;34m(filename)\u001b[0m\n\u001b[1;32m   1359\u001b[0m \u001b[39m@staticmethod\u001b[39m\n\u001b[1;32m   1360\u001b[0m \u001b[39mdef\u001b[39;00m \u001b[39mfrom_file\u001b[39m(filename):\n\u001b[1;32m   1361\u001b[0m \u001b[39m    \u001b[39m\u001b[39m\"\"\"\u001b[39;00m\n\u001b[1;32m   1362\u001b[0m \u001b[39m    Reads a Kpoints object from a KPOINTS file.\u001b[39;00m\n\u001b[1;32m   1363\u001b[0m \n\u001b[0;32m   (...)\u001b[0m\n\u001b[1;32m   1368\u001b[0m \u001b[39m        Kpoints object\u001b[39;00m\n\u001b[1;32m   1369\u001b[0m \u001b[39m    \"\"\"\u001b[39;00m\n\u001b[0;32m-> 1370\u001b[0m     \u001b[39mwith\u001b[39;00m zopen(filename, \u001b[39m\"\u001b[39;49m\u001b[39mrt\u001b[39;49m\u001b[39m\"\u001b[39;49m) \u001b[39mas\u001b[39;00m f:\n\u001b[1;32m   1371\u001b[0m         \u001b[39mreturn\u001b[39;00m Kpoints\u001b[39m.\u001b[39mfrom_string(f\u001b[39m.\u001b[39mread())\n",
      "File \u001b[0;32m~/miniconda3/envs/pyiron/lib/python3.10/site-packages/monty/io.py:45\u001b[0m, in \u001b[0;36mzopen\u001b[0;34m(filename, *args, **kwargs)\u001b[0m\n\u001b[1;32m     43\u001b[0m \u001b[39mif\u001b[39;00m ext \u001b[39min\u001b[39;00m (\u001b[39m\"\u001b[39m\u001b[39m.XZ\u001b[39m\u001b[39m\"\u001b[39m, \u001b[39m\"\u001b[39m\u001b[39m.LZMA\u001b[39m\u001b[39m\"\u001b[39m):\n\u001b[1;32m     44\u001b[0m     \u001b[39mreturn\u001b[39;00m lzma\u001b[39m.\u001b[39mopen(filename, \u001b[39m*\u001b[39margs, \u001b[39m*\u001b[39m\u001b[39m*\u001b[39mkwargs)\n\u001b[0;32m---> 45\u001b[0m \u001b[39mreturn\u001b[39;00m \u001b[39mopen\u001b[39;49m(filename, \u001b[39m*\u001b[39;49margs, \u001b[39m*\u001b[39;49m\u001b[39m*\u001b[39;49mkwargs)\n",
      "\u001b[0;31mFileNotFoundError\u001b[0m: [Errno 2] No such file or directory: '/root/personal_python_utilities/utils/tests/vasp_resources/1/KPOINTS'"
     ]
    }
   ],
   "source": [
    "from pymatgen.io.vasp import Kpoints\n",
    "\n",
    "a = Kpoints.from_file(\"/root/personal_python_utilities/utils/tests/vasp_resources/1/KPOINTS\")"
   ]
  },
  {
   "cell_type": "code",
   "execution_count": null,
   "metadata": {},
   "outputs": [
    {
     "data": {
      "text/plain": [
       "Automatic kpoint scheme\n",
       "0\n",
       "Gamma\n",
       "4 4 1"
      ]
     },
     "execution_count": 10,
     "metadata": {},
     "output_type": "execute_result"
    }
   ],
   "source": [
    "a_asdict = a.as_dict()\n",
    "asdf = Kpoints.from_dict(a_asdict)\n",
    "asdf"
   ]
  },
  {
   "cell_type": "code",
   "execution_count": null,
   "metadata": {},
   "outputs": [
    {
     "data": {
      "text/plain": [
       "[4, 4, 1]"
      ]
     },
     "execution_count": 11,
     "metadata": {},
     "output_type": "execute_result"
    }
   ],
   "source": [
    "asdf.kpts[0]"
   ]
  },
  {
   "cell_type": "code",
   "execution_count": null,
   "metadata": {},
   "outputs": [
    {
     "data": {
      "text/plain": [
       "'Automatic kpoint scheme'"
      ]
     },
     "execution_count": 12,
     "metadata": {},
     "output_type": "execute_result"
    }
   ],
   "source": [
    "asdf.comment"
   ]
  },
  {
   "cell_type": "code",
   "execution_count": null,
   "metadata": {},
   "outputs": [
    {
     "data": {
      "text/plain": [
       "Automatic kpoint scheme\n",
       "0\n",
       "Gamma\n",
       "4 4 1"
      ]
     },
     "execution_count": 13,
     "metadata": {},
     "output_type": "execute_result"
    }
   ],
   "source": [
    "asdf"
   ]
  },
  {
   "cell_type": "code",
   "execution_count": null,
   "metadata": {},
   "outputs": [
    {
     "data": {
      "text/plain": [
       "<enum 'Kpoints_supported_modes'>"
      ]
     },
     "execution_count": 20,
     "metadata": {},
     "output_type": "execute_result"
    }
   ],
   "source": [
    "type(asdf.style)"
   ]
  },
  {
   "cell_type": "code",
   "execution_count": null,
   "metadata": {},
   "outputs": [
    {
     "data": {
      "text/plain": [
       "<enum 'Kpoints_supported_modes'>"
      ]
     },
     "execution_count": 26,
     "metadata": {},
     "output_type": "execute_result"
    }
   ],
   "source": [
    "Kpoints.supported_modes.from"
   ]
  },
  {
   "cell_type": "code",
   "execution_count": null,
   "metadata": {},
   "outputs": [
    {
     "name": "stdout",
     "output_type": "stream",
     "text": [
      "\u001b[0;31mType:\u001b[0m        property\n",
      "\u001b[0;31mString form:\u001b[0m <property object at 0x7f99abba4e50>\n",
      "\u001b[0;31mSource:\u001b[0m     \n",
      "\u001b[0;31m# asdf.style.fget\u001b[0m\u001b[0;34m\u001b[0m\n",
      "\u001b[0;34m\u001b[0m\u001b[0;34m@\u001b[0m\u001b[0mproperty\u001b[0m\u001b[0;34m\u001b[0m\n",
      "\u001b[0;34m\u001b[0m\u001b[0;32mdef\u001b[0m \u001b[0mstyle\u001b[0m\u001b[0;34m(\u001b[0m\u001b[0mself\u001b[0m\u001b[0;34m)\u001b[0m\u001b[0;34m:\u001b[0m\u001b[0;34m\u001b[0m\n",
      "\u001b[0;34m\u001b[0m    \u001b[0;34m\"\"\"\u001b[0m\n",
      "\u001b[0;34m    :return: Style for kpoint generation. One of Kpoints_supported_modes\u001b[0m\n",
      "\u001b[0;34m        enum.\u001b[0m\n",
      "\u001b[0;34m    \"\"\"\u001b[0m\u001b[0;34m\u001b[0m\n",
      "\u001b[0;34m\u001b[0m    \u001b[0;32mreturn\u001b[0m \u001b[0mself\u001b[0m\u001b[0;34m.\u001b[0m\u001b[0m_style\u001b[0m\u001b[0;34m\u001b[0m\n",
      "\u001b[0;34m\u001b[0m\u001b[0;34m\u001b[0m\n",
      "\u001b[0;34m\u001b[0m\u001b[0;31m# asdf.style.fset\u001b[0m\u001b[0;34m\u001b[0m\n",
      "\u001b[0;34m\u001b[0m\u001b[0;34m@\u001b[0m\u001b[0mstyle\u001b[0m\u001b[0;34m.\u001b[0m\u001b[0msetter\u001b[0m\u001b[0;34m\u001b[0m\n",
      "\u001b[0;34m\u001b[0m\u001b[0;32mdef\u001b[0m \u001b[0mstyle\u001b[0m\u001b[0;34m(\u001b[0m\u001b[0mself\u001b[0m\u001b[0;34m,\u001b[0m \u001b[0mstyle\u001b[0m\u001b[0;34m)\u001b[0m\u001b[0;34m:\u001b[0m\u001b[0;34m\u001b[0m\n",
      "\u001b[0;34m\u001b[0m    \u001b[0;34m\"\"\"\u001b[0m\n",
      "\u001b[0;34m    :param style: Style\u001b[0m\n",
      "\u001b[0;34m    :return: Sets the style for the Kpoints. One of Kpoints_supported_modes\u001b[0m\n",
      "\u001b[0;34m        enum.\u001b[0m\n",
      "\u001b[0;34m    \"\"\"\u001b[0m\u001b[0;34m\u001b[0m\n",
      "\u001b[0;34m\u001b[0m    \u001b[0;32mif\u001b[0m \u001b[0misinstance\u001b[0m\u001b[0;34m(\u001b[0m\u001b[0mstyle\u001b[0m\u001b[0;34m,\u001b[0m \u001b[0mstr\u001b[0m\u001b[0;34m)\u001b[0m\u001b[0;34m:\u001b[0m\u001b[0;34m\u001b[0m\n",
      "\u001b[0;34m\u001b[0m        \u001b[0mstyle\u001b[0m \u001b[0;34m=\u001b[0m \u001b[0mKpoints\u001b[0m\u001b[0;34m.\u001b[0m\u001b[0msupported_modes\u001b[0m\u001b[0;34m.\u001b[0m\u001b[0mfrom_string\u001b[0m\u001b[0;34m(\u001b[0m\u001b[0mstyle\u001b[0m\u001b[0;34m)\u001b[0m\u001b[0;34m\u001b[0m\n",
      "\u001b[0;34m\u001b[0m\u001b[0;34m\u001b[0m\n",
      "\u001b[0;34m\u001b[0m    \u001b[0;32mif\u001b[0m \u001b[0;34m(\u001b[0m\u001b[0;34m\u001b[0m\n",
      "\u001b[0;34m\u001b[0m        \u001b[0mstyle\u001b[0m\u001b[0;34m\u001b[0m\n",
      "\u001b[0;34m\u001b[0m        \u001b[0;32min\u001b[0m \u001b[0;34m(\u001b[0m\u001b[0;34m\u001b[0m\n",
      "\u001b[0;34m\u001b[0m            \u001b[0mKpoints\u001b[0m\u001b[0;34m.\u001b[0m\u001b[0msupported_modes\u001b[0m\u001b[0;34m.\u001b[0m\u001b[0mAutomatic\u001b[0m\u001b[0;34m,\u001b[0m\u001b[0;34m\u001b[0m\n",
      "\u001b[0;34m\u001b[0m            \u001b[0mKpoints\u001b[0m\u001b[0;34m.\u001b[0m\u001b[0msupported_modes\u001b[0m\u001b[0;34m.\u001b[0m\u001b[0mGamma\u001b[0m\u001b[0;34m,\u001b[0m\u001b[0;34m\u001b[0m\n",
      "\u001b[0;34m\u001b[0m            \u001b[0mKpoints\u001b[0m\u001b[0;34m.\u001b[0m\u001b[0msupported_modes\u001b[0m\u001b[0;34m.\u001b[0m\u001b[0mMonkhorst\u001b[0m\u001b[0;34m,\u001b[0m\u001b[0;34m\u001b[0m\n",
      "\u001b[0;34m\u001b[0m        \u001b[0;34m)\u001b[0m\u001b[0;34m\u001b[0m\n",
      "\u001b[0;34m\u001b[0m        \u001b[0;32mand\u001b[0m \u001b[0mlen\u001b[0m\u001b[0;34m(\u001b[0m\u001b[0mself\u001b[0m\u001b[0;34m.\u001b[0m\u001b[0mkpts\u001b[0m\u001b[0;34m)\u001b[0m \u001b[0;34m>\u001b[0m \u001b[0;36m1\u001b[0m\u001b[0;34m\u001b[0m\n",
      "\u001b[0;34m\u001b[0m    \u001b[0;34m)\u001b[0m\u001b[0;34m:\u001b[0m\u001b[0;34m\u001b[0m\n",
      "\u001b[0;34m\u001b[0m        \u001b[0;32mraise\u001b[0m \u001b[0mValueError\u001b[0m\u001b[0;34m(\u001b[0m\u001b[0;34m\u001b[0m\n",
      "\u001b[0;34m\u001b[0m            \u001b[0;34m\"For fully automatic or automatic gamma or monk \"\u001b[0m\u001b[0;34m\u001b[0m\n",
      "\u001b[0;34m\u001b[0m            \u001b[0;34m\"kpoints, only a single line for the number of \"\u001b[0m\u001b[0;34m\u001b[0m\n",
      "\u001b[0;34m\u001b[0m            \u001b[0;34m\"divisions is allowed.\"\u001b[0m\u001b[0;34m\u001b[0m\n",
      "\u001b[0;34m\u001b[0m        \u001b[0;34m)\u001b[0m\u001b[0;34m\u001b[0m\n",
      "\u001b[0;34m\u001b[0m\u001b[0;34m\u001b[0m\n",
      "\u001b[0;34m\u001b[0m    \u001b[0mself\u001b[0m\u001b[0;34m.\u001b[0m\u001b[0m_style\u001b[0m \u001b[0;34m=\u001b[0m \u001b[0mstyle\u001b[0m\u001b[0;34m\u001b[0m\u001b[0;34m\u001b[0m\u001b[0m"
     ]
    }
   ],
   "source": [
    "asdf.style??"
   ]
  },
  {
   "cell_type": "code",
   "execution_count": null,
   "metadata": {},
   "outputs": [],
   "source": [
    "meshstyle = asdf.style"
   ]
  },
  {
   "cell_type": "code",
   "execution_count": null,
   "metadata": {},
   "outputs": [
    {
     "data": {
      "text/plain": [
       "<enum 'Kpoints_supported_modes'>"
      ]
     },
     "execution_count": 15,
     "metadata": {},
     "output_type": "execute_result"
    }
   ],
   "source": [
    "type(meshstyle)"
   ]
  },
  {
   "cell_type": "code",
   "execution_count": null,
   "metadata": {},
   "outputs": [],
   "source": [
    "import utils.generic as gen_utils\n",
    "\n",
    "gen_utils.find_and_extract_files_from_tarballs_parallel(parent_dir=parent_dir,\n",
    "                                                        extension=\".tar.gz\",\n",
    "                                                        filenames=[\"INCAR\", \"POTCAR\", \"KPOINTS\", \"CONTCAR\", \"OUTCAR\", \"vasprun.xml\", \"vasp.log\"])"
   ]
  },
  {
   "cell_type": "code",
   "execution_count": null,
   "metadata": {},
   "outputs": [
    {
     "name": "stdout",
     "output_type": "stream",
     "text": [
      "# Processes: 5\n",
      "Processors available: 16\n",
      "CPUs used: 5\n"
     ]
    }
   ],
   "source": [
    "parent_dir = \"/root/personal_python_utilities/utils/tests/vasp_resources\"\n",
    "gen_utils.find_and_extract_files_from_tarballs_parallel(parent_dir=parent_dir,\n",
    "                                                        extension=\".tar.gz\",\n",
    "                                                        filenames=[\"INCAR\", \"POTCAR\", \"KPOINTS\", \"CONTCAR\", \"OUTCAR\", \"vasprun.xml\", \"vasp.log\"])"
   ]
  },
  {
   "cell_type": "code",
   "execution_count": null,
   "metadata": {},
   "outputs": [],
   "source": [
    "import argparse\n",
    "from utils.generic import find_and_compress_directories_parallel\n",
    "import os\n",
    "\n",
    "def main():\n",
    "    parser = argparse.ArgumentParser(description='Find and compress directories based on specified criteria.')\n",
    "    parser.add_argument('directory', metavar='DIR', type=str, help='the directory to operate on')\n",
    "    args = parser.parse_args()\n",
    "\n",
    "    find_and_compress_directories_parallel(\n",
    "        parent_dir=args.directory,\n",
    "        valid_dir_if_filenames=[\"INCAR\", \"POTCAR\"],\n",
    "        exclude_files_from_tarball=[\"CHG\", \"CHGCAR\"],\n",
    "        exclude_filepatterns_from_tarball=[\"AECCAR*\"],\n",
    "        keep_after=True,\n",
    "        files=[\"CHG\", \"CHGCAR\", \"OUTCAR\", \"vasp.log\", \"vasprun.xml\", \"VASP_DDEC_analysis.output\"],\n",
    "        file_patterns=[\"AECCAR*\"],\n",
    "        print_msg=True,\n",
    "        inside_dir=True\n",
    "    )\n",
    "\n",
    "if __name__ == '__main__':\n",
    "    main()\n"
   ]
  },
  {
   "cell_type": "code",
   "execution_count": null,
   "metadata": {},
   "outputs": [],
   "source": [
    "import argparse\n",
    "from utils.generic import find_and_extract_files_from_tarballs_parallel\n",
    "import os\n",
    "\n",
    "def main():\n",
    "    parser = argparse.ArgumentParser(description='Find and extract files from tarballs based on specified criteria.')\n",
    "    parser.add_argument('directory', metavar='DIR', type=str, help='the directory to operate on')\n",
    "    args = parser.parse_args()\n",
    "    find_and_extract_files_from_tarballs_parallel(parent_dir=args.directory,\n",
    "                                                    extension=\".tar.gz\",\n",
    "                                                    filenames=[\"INCAR\", \"POTCAR\", \"KPOINTS\", \"CONTCAR\", \"OUTCAR\", \"vasprun.xml\", \"vasp.log\"])\n",
    "    \n",
    "if __name__ == '__main__':\n",
    "    main()\n"
   ]
  }
 ],
 "metadata": {
  "kernelspec": {
   "display_name": "pyiron",
   "language": "python",
   "name": "python3"
  },
  "language_info": {
   "codemirror_mode": {
    "name": "ipython",
    "version": 3
   },
   "file_extension": ".py",
   "mimetype": "text/x-python",
   "name": "python",
   "nbconvert_exporter": "python",
   "pygments_lexer": "ipython3",
   "version": "3.10.10"
  },
  "orig_nbformat": 4
 },
 "nbformat": 4,
 "nbformat_minor": 2
}
