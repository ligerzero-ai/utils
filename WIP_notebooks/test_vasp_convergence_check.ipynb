{
 "cells": [
  {
   "cell_type": "code",
   "execution_count": 1,
   "metadata": {},
   "outputs": [
    {
     "data": {
      "application/vnd.jupyter.widget-view+json": {
       "model_id": "703277eb9ad1465ba2675c7b2247eebc",
       "version_major": 2,
       "version_minor": 0
      },
      "text/plain": []
     },
     "metadata": {},
     "output_type": "display_data"
    }
   ],
   "source": [
    "import os\n",
    "import utils.generic as gen_tools\n",
    "from utils.vasp import parse_VASP_directory, check_convergence\n",
    "%load_ext autoreload\n",
    "%autoreload 2"
   ]
  },
  {
   "cell_type": "code",
   "execution_count": 2,
   "metadata": {},
   "outputs": [
    {
     "name": "stderr",
     "output_type": "stream",
     "text": [
      "/root/miniconda3/envs/pyiron/lib/python3.10/site-packages/pymatgen/io/vasp/inputs.py:1819: UnknownPotcarWarning: POTCAR data with symbol S does not match any VASP POTCAR known to pymatgen. There is a possibility your POTCAR is corrupted or that the pymatgen database is incomplete.\n",
      "  warnings.warn(\n",
      "/root/miniconda3/envs/pyiron/lib/python3.10/site-packages/pymatgen/io/vasp/inputs.py:1819: UnknownPotcarWarning: POTCAR data with symbol Fe does not match any VASP POTCAR known to pymatgen. There is a possibility your POTCAR is corrupted or that the pymatgen database is incomplete.\n",
      "  warnings.warn(\n",
      "/root/miniconda3/envs/pyiron/lib/python3.10/site-packages/pymatgen/io/vasp/outputs.py:1098: UserWarning: No POTCAR file with matching TITEL fields was found in /root/personal_python_utilities/test_utils/init_test_compress_and_cleanup\n",
      "  warnings.warn(f\"No POTCAR file with matching TITEL fields was found in {os.path.abspath(p)}\")\n"
     ]
    },
    {
     "data": {
      "text/plain": [
       "True"
      ]
     },
     "execution_count": 2,
     "metadata": {},
     "output_type": "execute_result"
    }
   ],
   "source": [
    "test_dir = \"/root/personal_python_utilities/test_utils/init_test_compress_and_cleanup\"\n",
    "check_convergence(test_dir)"
   ]
  },
  {
   "cell_type": "code",
   "execution_count": 5,
   "metadata": {},
   "outputs": [
    {
     "name": "stderr",
     "output_type": "stream",
     "text": [
      "/root/miniconda3/envs/pyiron/lib/python3.10/site-packages/pymatgen/io/vasp/inputs.py:1819: UnknownPotcarWarning: POTCAR data with symbol S does not match any VASP POTCAR known to pymatgen. There is a possibility your POTCAR is corrupted or that the pymatgen database is incomplete.\n",
      "  warnings.warn(\n",
      "/root/miniconda3/envs/pyiron/lib/python3.10/site-packages/pymatgen/io/vasp/inputs.py:1819: UnknownPotcarWarning: POTCAR data with symbol Fe does not match any VASP POTCAR known to pymatgen. There is a possibility your POTCAR is corrupted or that the pymatgen database is incomplete.\n",
      "  warnings.warn(\n",
      "/root/miniconda3/envs/pyiron/lib/python3.10/site-packages/pymatgen/io/vasp/outputs.py:1098: UserWarning: No POTCAR file with matching TITEL fields was found in /root/personal_python_utilities/test_utils/init_test_compress_and_cleanup\n",
      "  warnings.warn(f\"No POTCAR file with matching TITEL fields was found in {os.path.abspath(p)}\")\n"
     ]
    },
    {
     "data": {
      "text/html": [
       "<div>\n",
       "<style scoped>\n",
       "    .dataframe tbody tr th:only-of-type {\n",
       "        vertical-align: middle;\n",
       "    }\n",
       "\n",
       "    .dataframe tbody tr th {\n",
       "        vertical-align: top;\n",
       "    }\n",
       "\n",
       "    .dataframe thead th {\n",
       "        text-align: right;\n",
       "    }\n",
       "</style>\n",
       "<table border=\"1\" class=\"dataframe\">\n",
       "  <thead>\n",
       "    <tr style=\"text-align: right;\">\n",
       "      <th></th>\n",
       "      <th>job_name</th>\n",
       "      <th>filepath</th>\n",
       "      <th>structures</th>\n",
       "      <th>energy</th>\n",
       "      <th>energy_zero</th>\n",
       "      <th>forces</th>\n",
       "      <th>stresses</th>\n",
       "      <th>magmoms</th>\n",
       "      <th>scf_steps</th>\n",
       "      <th>element_list</th>\n",
       "      <th>element_count</th>\n",
       "      <th>potcar_electron_count</th>\n",
       "      <th>total_electron_count</th>\n",
       "      <th>convergence</th>\n",
       "      <th>kpoints</th>\n",
       "      <th>incar</th>\n",
       "    </tr>\n",
       "  </thead>\n",
       "  <tbody>\n",
       "    <tr>\n",
       "      <th>0</th>\n",
       "      <td>init_test_compress_and_cleanup</td>\n",
       "      <td>/root/personal_python_utilities/test_utils/ini...</td>\n",
       "      <td>[{\"@module\": \"pymatgen.core.structure\", \"@clas...</td>\n",
       "      <td>[-607.92801379]</td>\n",
       "      <td>[-607.93041222]</td>\n",
       "      <td>[[[-4.7e-05, 0.005072, -0.000105], [4.8e-05, 0...</td>\n",
       "      <td>[[[-0.010610983606907959, 2.0596979944200003e-...</td>\n",
       "      <td>[[2.849, 2.848, 2.647, 2.647, 2.624, 2.622, 2....</td>\n",
       "      <td>[43]</td>\n",
       "      <td>[Fe, S, Fe]</td>\n",
       "      <td>[33, 1, 42]</td>\n",
       "      <td>[8.0, 6.0, 8.0]</td>\n",
       "      <td>606.0</td>\n",
       "      <td>True</td>\n",
       "      <td>{'comment': 'Automatic kpoint scheme', 'nkpoin...</td>\n",
       "      <td>{'ALGO': 'Fast', 'AMIX': 0.01, 'AMIX_MAG': 0.1...</td>\n",
       "    </tr>\n",
       "  </tbody>\n",
       "</table>\n",
       "</div>"
      ],
      "text/plain": [
       "                         job_name   \n",
       "0  init_test_compress_and_cleanup  \\\n",
       "\n",
       "                                            filepath   \n",
       "0  /root/personal_python_utilities/test_utils/ini...  \\\n",
       "\n",
       "                                          structures           energy   \n",
       "0  [{\"@module\": \"pymatgen.core.structure\", \"@clas...  [-607.92801379]  \\\n",
       "\n",
       "       energy_zero                                             forces   \n",
       "0  [-607.93041222]  [[[-4.7e-05, 0.005072, -0.000105], [4.8e-05, 0...  \\\n",
       "\n",
       "                                            stresses   \n",
       "0  [[[-0.010610983606907959, 2.0596979944200003e-...  \\\n",
       "\n",
       "                                             magmoms scf_steps element_list   \n",
       "0  [[2.849, 2.848, 2.647, 2.647, 2.624, 2.622, 2....      [43]  [Fe, S, Fe]  \\\n",
       "\n",
       "  element_count potcar_electron_count  total_electron_count  convergence   \n",
       "0   [33, 1, 42]       [8.0, 6.0, 8.0]                 606.0         True  \\\n",
       "\n",
       "                                             kpoints   \n",
       "0  {'comment': 'Automatic kpoint scheme', 'nkpoin...  \\\n",
       "\n",
       "                                               incar  \n",
       "0  {'ALGO': 'Fast', 'AMIX': 0.01, 'AMIX_MAG': 0.1...  "
      ]
     },
     "execution_count": 5,
     "metadata": {},
     "output_type": "execute_result"
    }
   ],
   "source": [
    "df = parse_VASP_directory(directory=test_dir)\n",
    "df"
   ]
  },
  {
   "cell_type": "code",
   "execution_count": 6,
   "metadata": {},
   "outputs": [],
   "source": [
    "from utils.vasp import DatabaseGenerator"
   ]
  },
  {
   "cell_type": "code",
   "execution_count": 7,
   "metadata": {},
   "outputs": [
    {
     "name": "stdout",
     "output_type": "stream",
     "text": [
      "The total number of vasp directories that we are building the database out of is 1\n",
      "# Processes: 1\n",
      "Processors available: 16\n",
      "CPUs used: 1\n"
     ]
    },
    {
     "name": "stdout",
     "output_type": "stream",
     "text": [
      "Elapsed time: 4.059 seconds\n"
     ]
    }
   ],
   "source": [
    "datagen = DatabaseGenerator(\"/root/personal_python_utilities/utils/tests/vasp_resources\")\n",
    "df = datagen.build_database()"
   ]
  },
  {
   "cell_type": "code",
   "execution_count": 15,
   "metadata": {},
   "outputs": [
    {
     "data": {
      "text/plain": [
       "Structure Summary\n",
       "Lattice\n",
       "    abc : 5.663698 6.332207 39.328827\n",
       " angles : 90.0 90.0 90.0\n",
       " volume : 1410.477572288418\n",
       "      A : 5.663698 0.0 0.0\n",
       "      B : 0.0 6.332207 0.0\n",
       "      C : 0.0 0.0 39.328827\n",
       "    pbc : True True True\n",
       "PeriodicSite: Fe (5.6637, 2.7026, 7.8325) [1.0000, 0.4268, 0.1992]\n",
       "PeriodicSite: Fe (2.8318, 2.7037, 7.8345) [0.5000, 0.4270, 0.1992]\n",
       "PeriodicSite: Fe (1.4153, 0.7549, 8.3480) [0.2499, 0.1192, 0.2123]\n",
       "PeriodicSite: Fe (4.2483, 0.7549, 8.3480) [0.7501, 0.1192, 0.2123]\n",
       "PeriodicSite: Fe (5.6636, 5.1460, 8.9401) [1.0000, 0.8127, 0.2273]\n",
       "PeriodicSite: Fe (2.8318, 5.1473, 8.9394) [0.5000, 0.8129, 0.2273]\n",
       "PeriodicSite: Fe (1.4163, 3.2540, 9.6671) [0.2501, 0.5139, 0.2458]\n",
       "PeriodicSite: Fe (4.2473, 3.2539, 9.6671) [0.7499, 0.5139, 0.2458]\n",
       "PeriodicSite: Fe (5.6637, 1.3335, 10.2686) [1.0000, 0.2106, 0.2611]\n",
       "PeriodicSite: Fe (2.8318, 1.3347, 10.2714) [0.5000, 0.2108, 0.2612]\n",
       "PeriodicSite: Fe (1.4165, 5.7653, 10.8929) [0.2501, 0.9105, 0.2770]\n",
       "PeriodicSite: Fe (4.2471, 5.7653, 10.8929) [0.7499, 0.9105, 0.2770]\n",
       "PeriodicSite: Fe (5.6637, 3.8762, 11.5623) [1.0000, 0.6121, 0.2940]\n",
       "PeriodicSite: Fe (2.8318, 3.8764, 11.5642) [0.5000, 0.6122, 0.2940]\n",
       "PeriodicSite: Fe (1.4177, 1.9734, 12.1972) [0.2503, 0.3116, 0.3101]\n",
       "PeriodicSite: Fe (4.2459, 1.9734, 12.1972) [0.7497, 0.3117, 0.3101]\n",
       "PeriodicSite: Fe (2.8318, 0.0826, 12.8255) [0.5000, 0.0131, 0.3261]\n",
       "PeriodicSite: Fe (5.6637, 0.0851, 12.8269) [1.0000, 0.0134, 0.3261]\n",
       "PeriodicSite: Fe (1.4186, 4.5025, 13.4355) [0.2505, 0.7110, 0.3416]\n",
       "PeriodicSite: Fe (4.2450, 4.5025, 13.4355) [0.7495, 0.7110, 0.3416]\n",
       "PeriodicSite: Fe (5.6637, 2.6084, 14.1109) [1.0000, 0.4119, 0.3588]\n",
       "PeriodicSite: Fe (2.8318, 2.6041, 14.1284) [0.5000, 0.4113, 0.3592]\n",
       "PeriodicSite: Fe (1.4195, 0.7323, 14.7610) [0.2506, 0.1156, 0.3753]\n",
       "PeriodicSite: Fe (4.2442, 0.7323, 14.7610) [0.7494, 0.1156, 0.3753]\n",
       "PeriodicSite: Fe (5.6637, 5.1552, 15.2782) [1.0000, 0.8141, 0.3885]\n",
       "PeriodicSite: Fe (2.8318, 5.1218, 15.3141) [0.5000, 0.8088, 0.3894]\n",
       "PeriodicSite: Fe (1.4038, 3.2217, 16.0146) [0.2479, 0.5088, 0.4072]\n",
       "PeriodicSite: Fe (4.2598, 3.2217, 16.0146) [0.7521, 0.5088, 0.4072]\n",
       "PeriodicSite: Fe (2.8318, 1.3333, 16.7975) [0.5000, 0.2106, 0.4271]\n",
       "PeriodicSite: Fe (5.6637, 1.3341, 16.7734) [1.0000, 0.2107, 0.4265]\n",
       "PeriodicSite: Fe (1.4265, 5.7151, 17.1606) [0.2519, 0.9025, 0.4363]\n",
       "PeriodicSite: Fe (4.2371, 5.7151, 17.1606) [0.7481, 0.9025, 0.4363]\n",
       "PeriodicSite: Fe (2.8318, 3.7335, 17.9203) [0.5000, 0.5896, 0.4557]\n",
       "PeriodicSite: S (5.6637, 3.9572, 17.6737) [1.0000, 0.6249, 0.4494]\n",
       "PeriodicSite: Fe (2.8318, 5.9496, 19.0332) [0.5000, 0.9396, 0.4839]\n",
       "PeriodicSite: Fe (5.6636, 6.0664, 19.0135) [1.0000, 0.9580, 0.4834]\n",
       "PeriodicSite: Fe (1.4479, 1.7355, 19.2057) [0.2556, 0.2741, 0.4883]\n",
       "PeriodicSite: Fe (4.2157, 1.7354, 19.2057) [0.7443, 0.2741, 0.4883]\n",
       "PeriodicSite: Fe (2.8318, 3.6635, 20.2356) [0.5000, 0.5785, 0.5145]\n",
       "PeriodicSite: Fe (5.6636, 3.6725, 19.9882) [1.0000, 0.5800, 0.5082]\n",
       "PeriodicSite: Fe (1.4070, 5.5837, 20.8756) [0.2484, 0.8818, 0.5308]\n",
       "PeriodicSite: Fe (4.2566, 5.5837, 20.8756) [0.7516, 0.8818, 0.5308]\n",
       "PeriodicSite: Fe (2.8318, 1.1970, 21.3317) [0.5000, 0.1890, 0.5424]\n",
       "PeriodicSite: Fe (5.6636, 1.2073, 21.3168) [1.0000, 0.1907, 0.5420]\n",
       "PeriodicSite: Fe (1.3891, 3.0799, 22.0320) [0.2453, 0.4864, 0.5602]\n",
       "PeriodicSite: Fe (4.2744, 3.0799, 22.0320) [0.7547, 0.4864, 0.5602]\n",
       "PeriodicSite: Fe (5.6636, 4.9905, 22.7161) [1.0000, 0.7881, 0.5776]\n",
       "PeriodicSite: Fe (2.8318, 4.9880, 22.7222) [0.5000, 0.7877, 0.5777]\n",
       "PeriodicSite: Fe (1.4130, 0.5855, 23.2933) [0.2495, 0.0925, 0.5923]\n",
       "PeriodicSite: Fe (4.2505, 0.5855, 23.2933) [0.7505, 0.0925, 0.5923]\n",
       "PeriodicSite: Fe (2.8318, 2.4756, 23.9356) [0.5000, 0.3910, 0.6086]\n",
       "PeriodicSite: Fe (5.6636, 2.4760, 23.9387) [1.0000, 0.3910, 0.6087]\n",
       "PeriodicSite: Fe (1.4149, 4.3755, 24.5992) [0.2498, 0.6910, 0.6255]\n",
       "PeriodicSite: Fe (4.2487, 4.3755, 24.5992) [0.7502, 0.6910, 0.6255]\n",
       "PeriodicSite: Fe (2.8318, 6.2862, 25.2089) [0.5000, 0.9927, 0.6410]\n",
       "PeriodicSite: Fe (5.6636, 6.2873, 25.2053) [1.0000, 0.9929, 0.6409]\n",
       "PeriodicSite: Fe (1.4153, 1.8561, 25.8376) [0.2499, 0.2931, 0.6570]\n",
       "PeriodicSite: Fe (4.2483, 1.8561, 25.8376) [0.7501, 0.2931, 0.6570]\n",
       "PeriodicSite: Fe (5.6636, 3.7573, 26.4916) [1.0000, 0.5934, 0.6736]\n",
       "PeriodicSite: Fe (2.8318, 3.7559, 26.4908) [0.5000, 0.5931, 0.6736]\n",
       "PeriodicSite: Fe (1.4157, 5.6625, 27.1085) [0.2500, 0.8942, 0.6893]\n",
       "PeriodicSite: Fe (4.2479, 5.6625, 27.1085) [0.7500, 0.8942, 0.6893]\n",
       "PeriodicSite: Fe (2.8318, 1.2382, 27.7264) [0.5000, 0.1955, 0.7050]\n",
       "PeriodicSite: Fe (5.6636, 1.2380, 27.7266) [1.0000, 0.1955, 0.7050]\n",
       "PeriodicSite: Fe (1.4157, 3.1243, 28.4113) [0.2500, 0.4934, 0.7224]\n",
       "PeriodicSite: Fe (4.2479, 3.1243, 28.4113) [0.7500, 0.4934, 0.7224]\n",
       "PeriodicSite: Fe (5.6637, 5.0307, 29.0298) [1.0000, 0.7945, 0.7381]\n",
       "PeriodicSite: Fe (2.8318, 5.0308, 29.0301) [0.5000, 0.7945, 0.7381]\n",
       "PeriodicSite: Fe (1.4157, 0.6207, 29.6277) [0.2500, 0.0980, 0.7533]\n",
       "PeriodicSite: Fe (4.2479, 0.6207, 29.6277) [0.7500, 0.0980, 0.7533]\n",
       "PeriodicSite: Fe (2.8318, 2.5139, 30.3592) [0.5000, 0.3970, 0.7719]\n",
       "PeriodicSite: Fe (5.6637, 2.5144, 30.3600) [1.0000, 0.3971, 0.7720]\n",
       "PeriodicSite: Fe (1.4161, 4.4562, 30.9532) [0.2500, 0.7037, 0.7870]\n",
       "PeriodicSite: Fe (4.2475, 4.4562, 30.9532) [0.7500, 0.7037, 0.7870]\n",
       "PeriodicSite: Fe (2.8318, 0.0745, 31.4654) [0.5000, 0.0118, 0.8001]\n",
       "PeriodicSite: Fe (5.6636, 0.0736, 31.4658) [1.0000, 0.0116, 0.8001]"
      ]
     },
     "execution_count": 15,
     "metadata": {},
     "output_type": "execute_result"
    }
   ],
   "source": [
    "from pymatgen.core import Structure\n",
    "struct = Structure.from_str(df.structures.iloc[0][0], fmt=\"json\")\n",
    "struct"
   ]
  },
  {
   "cell_type": "code",
   "execution_count": null,
   "metadata": {},
   "outputs": [
    {
     "ename": "FileNotFoundError",
     "evalue": "[Errno 2] No such file or directory: '/root/personal_python_utilities/utils/tests/vasp_resources/1/KPOINTS'",
     "output_type": "error",
     "traceback": [
      "\u001b[0;31m---------------------------------------------------------------------------\u001b[0m",
      "\u001b[0;31mFileNotFoundError\u001b[0m                         Traceback (most recent call last)",
      "Cell \u001b[0;32mIn[7], line 3\u001b[0m\n\u001b[1;32m      1\u001b[0m \u001b[39mfrom\u001b[39;00m \u001b[39mpymatgen\u001b[39;00m\u001b[39m.\u001b[39;00m\u001b[39mio\u001b[39;00m\u001b[39m.\u001b[39;00m\u001b[39mvasp\u001b[39;00m \u001b[39mimport\u001b[39;00m Kpoints\n\u001b[0;32m----> 3\u001b[0m a \u001b[39m=\u001b[39m Kpoints\u001b[39m.\u001b[39;49mfrom_file(\u001b[39m\"\u001b[39;49m\u001b[39m/root/personal_python_utilities/utils/tests/vasp_resources/1/KPOINTS\u001b[39;49m\u001b[39m\"\u001b[39;49m)\n",
      "File \u001b[0;32m~/miniconda3/envs/pyiron/lib/python3.10/site-packages/pymatgen/io/vasp/inputs.py:1370\u001b[0m, in \u001b[0;36mKpoints.from_file\u001b[0;34m(filename)\u001b[0m\n\u001b[1;32m   1359\u001b[0m \u001b[39m@staticmethod\u001b[39m\n\u001b[1;32m   1360\u001b[0m \u001b[39mdef\u001b[39;00m \u001b[39mfrom_file\u001b[39m(filename):\n\u001b[1;32m   1361\u001b[0m \u001b[39m    \u001b[39m\u001b[39m\"\"\"\u001b[39;00m\n\u001b[1;32m   1362\u001b[0m \u001b[39m    Reads a Kpoints object from a KPOINTS file.\u001b[39;00m\n\u001b[1;32m   1363\u001b[0m \n\u001b[0;32m   (...)\u001b[0m\n\u001b[1;32m   1368\u001b[0m \u001b[39m        Kpoints object\u001b[39;00m\n\u001b[1;32m   1369\u001b[0m \u001b[39m    \"\"\"\u001b[39;00m\n\u001b[0;32m-> 1370\u001b[0m     \u001b[39mwith\u001b[39;00m zopen(filename, \u001b[39m\"\u001b[39;49m\u001b[39mrt\u001b[39;49m\u001b[39m\"\u001b[39;49m) \u001b[39mas\u001b[39;00m f:\n\u001b[1;32m   1371\u001b[0m         \u001b[39mreturn\u001b[39;00m Kpoints\u001b[39m.\u001b[39mfrom_string(f\u001b[39m.\u001b[39mread())\n",
      "File \u001b[0;32m~/miniconda3/envs/pyiron/lib/python3.10/site-packages/monty/io.py:45\u001b[0m, in \u001b[0;36mzopen\u001b[0;34m(filename, *args, **kwargs)\u001b[0m\n\u001b[1;32m     43\u001b[0m \u001b[39mif\u001b[39;00m ext \u001b[39min\u001b[39;00m (\u001b[39m\"\u001b[39m\u001b[39m.XZ\u001b[39m\u001b[39m\"\u001b[39m, \u001b[39m\"\u001b[39m\u001b[39m.LZMA\u001b[39m\u001b[39m\"\u001b[39m):\n\u001b[1;32m     44\u001b[0m     \u001b[39mreturn\u001b[39;00m lzma\u001b[39m.\u001b[39mopen(filename, \u001b[39m*\u001b[39margs, \u001b[39m*\u001b[39m\u001b[39m*\u001b[39mkwargs)\n\u001b[0;32m---> 45\u001b[0m \u001b[39mreturn\u001b[39;00m \u001b[39mopen\u001b[39;49m(filename, \u001b[39m*\u001b[39;49margs, \u001b[39m*\u001b[39;49m\u001b[39m*\u001b[39;49mkwargs)\n",
      "\u001b[0;31mFileNotFoundError\u001b[0m: [Errno 2] No such file or directory: '/root/personal_python_utilities/utils/tests/vasp_resources/1/KPOINTS'"
     ]
    }
   ],
   "source": [
    "from pymatgen.io.vasp import Kpoints\n",
    "\n",
    "a = Kpoints.from_file(\"/root/personal_python_utilities/utils/tests/vasp_resources/1/KPOINTS\")"
   ]
  },
  {
   "cell_type": "code",
   "execution_count": null,
   "metadata": {},
   "outputs": [
    {
     "data": {
      "text/plain": [
       "Automatic kpoint scheme\n",
       "0\n",
       "Gamma\n",
       "4 4 1"
      ]
     },
     "execution_count": 10,
     "metadata": {},
     "output_type": "execute_result"
    }
   ],
   "source": [
    "a_asdict = a.as_dict()\n",
    "asdf = Kpoints.from_dict(a_asdict)\n",
    "asdf"
   ]
  },
  {
   "cell_type": "code",
   "execution_count": null,
   "metadata": {},
   "outputs": [
    {
     "data": {
      "text/plain": [
       "[4, 4, 1]"
      ]
     },
     "execution_count": 11,
     "metadata": {},
     "output_type": "execute_result"
    }
   ],
   "source": [
    "asdf.kpts[0]"
   ]
  },
  {
   "cell_type": "code",
   "execution_count": null,
   "metadata": {},
   "outputs": [
    {
     "data": {
      "text/plain": [
       "'Automatic kpoint scheme'"
      ]
     },
     "execution_count": 12,
     "metadata": {},
     "output_type": "execute_result"
    }
   ],
   "source": [
    "asdf.comment"
   ]
  },
  {
   "cell_type": "code",
   "execution_count": null,
   "metadata": {},
   "outputs": [
    {
     "data": {
      "text/plain": [
       "Automatic kpoint scheme\n",
       "0\n",
       "Gamma\n",
       "4 4 1"
      ]
     },
     "execution_count": 13,
     "metadata": {},
     "output_type": "execute_result"
    }
   ],
   "source": [
    "asdf"
   ]
  },
  {
   "cell_type": "code",
   "execution_count": null,
   "metadata": {},
   "outputs": [
    {
     "data": {
      "text/plain": [
       "<enum 'Kpoints_supported_modes'>"
      ]
     },
     "execution_count": 20,
     "metadata": {},
     "output_type": "execute_result"
    }
   ],
   "source": [
    "type(asdf.style)"
   ]
  },
  {
   "cell_type": "code",
   "execution_count": null,
   "metadata": {},
   "outputs": [
    {
     "data": {
      "text/plain": [
       "<enum 'Kpoints_supported_modes'>"
      ]
     },
     "execution_count": 26,
     "metadata": {},
     "output_type": "execute_result"
    }
   ],
   "source": [
    "Kpoints.supported_modes.from"
   ]
  },
  {
   "cell_type": "code",
   "execution_count": null,
   "metadata": {},
   "outputs": [
    {
     "name": "stdout",
     "output_type": "stream",
     "text": [
      "\u001b[0;31mType:\u001b[0m        property\n",
      "\u001b[0;31mString form:\u001b[0m <property object at 0x7f99abba4e50>\n",
      "\u001b[0;31mSource:\u001b[0m     \n",
      "\u001b[0;31m# asdf.style.fget\u001b[0m\u001b[0;34m\u001b[0m\n",
      "\u001b[0;34m\u001b[0m\u001b[0;34m@\u001b[0m\u001b[0mproperty\u001b[0m\u001b[0;34m\u001b[0m\n",
      "\u001b[0;34m\u001b[0m\u001b[0;32mdef\u001b[0m \u001b[0mstyle\u001b[0m\u001b[0;34m(\u001b[0m\u001b[0mself\u001b[0m\u001b[0;34m)\u001b[0m\u001b[0;34m:\u001b[0m\u001b[0;34m\u001b[0m\n",
      "\u001b[0;34m\u001b[0m    \u001b[0;34m\"\"\"\u001b[0m\n",
      "\u001b[0;34m    :return: Style for kpoint generation. One of Kpoints_supported_modes\u001b[0m\n",
      "\u001b[0;34m        enum.\u001b[0m\n",
      "\u001b[0;34m    \"\"\"\u001b[0m\u001b[0;34m\u001b[0m\n",
      "\u001b[0;34m\u001b[0m    \u001b[0;32mreturn\u001b[0m \u001b[0mself\u001b[0m\u001b[0;34m.\u001b[0m\u001b[0m_style\u001b[0m\u001b[0;34m\u001b[0m\n",
      "\u001b[0;34m\u001b[0m\u001b[0;34m\u001b[0m\n",
      "\u001b[0;34m\u001b[0m\u001b[0;31m# asdf.style.fset\u001b[0m\u001b[0;34m\u001b[0m\n",
      "\u001b[0;34m\u001b[0m\u001b[0;34m@\u001b[0m\u001b[0mstyle\u001b[0m\u001b[0;34m.\u001b[0m\u001b[0msetter\u001b[0m\u001b[0;34m\u001b[0m\n",
      "\u001b[0;34m\u001b[0m\u001b[0;32mdef\u001b[0m \u001b[0mstyle\u001b[0m\u001b[0;34m(\u001b[0m\u001b[0mself\u001b[0m\u001b[0;34m,\u001b[0m \u001b[0mstyle\u001b[0m\u001b[0;34m)\u001b[0m\u001b[0;34m:\u001b[0m\u001b[0;34m\u001b[0m\n",
      "\u001b[0;34m\u001b[0m    \u001b[0;34m\"\"\"\u001b[0m\n",
      "\u001b[0;34m    :param style: Style\u001b[0m\n",
      "\u001b[0;34m    :return: Sets the style for the Kpoints. One of Kpoints_supported_modes\u001b[0m\n",
      "\u001b[0;34m        enum.\u001b[0m\n",
      "\u001b[0;34m    \"\"\"\u001b[0m\u001b[0;34m\u001b[0m\n",
      "\u001b[0;34m\u001b[0m    \u001b[0;32mif\u001b[0m \u001b[0misinstance\u001b[0m\u001b[0;34m(\u001b[0m\u001b[0mstyle\u001b[0m\u001b[0;34m,\u001b[0m \u001b[0mstr\u001b[0m\u001b[0;34m)\u001b[0m\u001b[0;34m:\u001b[0m\u001b[0;34m\u001b[0m\n",
      "\u001b[0;34m\u001b[0m        \u001b[0mstyle\u001b[0m \u001b[0;34m=\u001b[0m \u001b[0mKpoints\u001b[0m\u001b[0;34m.\u001b[0m\u001b[0msupported_modes\u001b[0m\u001b[0;34m.\u001b[0m\u001b[0mfrom_string\u001b[0m\u001b[0;34m(\u001b[0m\u001b[0mstyle\u001b[0m\u001b[0;34m)\u001b[0m\u001b[0;34m\u001b[0m\n",
      "\u001b[0;34m\u001b[0m\u001b[0;34m\u001b[0m\n",
      "\u001b[0;34m\u001b[0m    \u001b[0;32mif\u001b[0m \u001b[0;34m(\u001b[0m\u001b[0;34m\u001b[0m\n",
      "\u001b[0;34m\u001b[0m        \u001b[0mstyle\u001b[0m\u001b[0;34m\u001b[0m\n",
      "\u001b[0;34m\u001b[0m        \u001b[0;32min\u001b[0m \u001b[0;34m(\u001b[0m\u001b[0;34m\u001b[0m\n",
      "\u001b[0;34m\u001b[0m            \u001b[0mKpoints\u001b[0m\u001b[0;34m.\u001b[0m\u001b[0msupported_modes\u001b[0m\u001b[0;34m.\u001b[0m\u001b[0mAutomatic\u001b[0m\u001b[0;34m,\u001b[0m\u001b[0;34m\u001b[0m\n",
      "\u001b[0;34m\u001b[0m            \u001b[0mKpoints\u001b[0m\u001b[0;34m.\u001b[0m\u001b[0msupported_modes\u001b[0m\u001b[0;34m.\u001b[0m\u001b[0mGamma\u001b[0m\u001b[0;34m,\u001b[0m\u001b[0;34m\u001b[0m\n",
      "\u001b[0;34m\u001b[0m            \u001b[0mKpoints\u001b[0m\u001b[0;34m.\u001b[0m\u001b[0msupported_modes\u001b[0m\u001b[0;34m.\u001b[0m\u001b[0mMonkhorst\u001b[0m\u001b[0;34m,\u001b[0m\u001b[0;34m\u001b[0m\n",
      "\u001b[0;34m\u001b[0m        \u001b[0;34m)\u001b[0m\u001b[0;34m\u001b[0m\n",
      "\u001b[0;34m\u001b[0m        \u001b[0;32mand\u001b[0m \u001b[0mlen\u001b[0m\u001b[0;34m(\u001b[0m\u001b[0mself\u001b[0m\u001b[0;34m.\u001b[0m\u001b[0mkpts\u001b[0m\u001b[0;34m)\u001b[0m \u001b[0;34m>\u001b[0m \u001b[0;36m1\u001b[0m\u001b[0;34m\u001b[0m\n",
      "\u001b[0;34m\u001b[0m    \u001b[0;34m)\u001b[0m\u001b[0;34m:\u001b[0m\u001b[0;34m\u001b[0m\n",
      "\u001b[0;34m\u001b[0m        \u001b[0;32mraise\u001b[0m \u001b[0mValueError\u001b[0m\u001b[0;34m(\u001b[0m\u001b[0;34m\u001b[0m\n",
      "\u001b[0;34m\u001b[0m            \u001b[0;34m\"For fully automatic or automatic gamma or monk \"\u001b[0m\u001b[0;34m\u001b[0m\n",
      "\u001b[0;34m\u001b[0m            \u001b[0;34m\"kpoints, only a single line for the number of \"\u001b[0m\u001b[0;34m\u001b[0m\n",
      "\u001b[0;34m\u001b[0m            \u001b[0;34m\"divisions is allowed.\"\u001b[0m\u001b[0;34m\u001b[0m\n",
      "\u001b[0;34m\u001b[0m        \u001b[0;34m)\u001b[0m\u001b[0;34m\u001b[0m\n",
      "\u001b[0;34m\u001b[0m\u001b[0;34m\u001b[0m\n",
      "\u001b[0;34m\u001b[0m    \u001b[0mself\u001b[0m\u001b[0;34m.\u001b[0m\u001b[0m_style\u001b[0m \u001b[0;34m=\u001b[0m \u001b[0mstyle\u001b[0m\u001b[0;34m\u001b[0m\u001b[0;34m\u001b[0m\u001b[0m"
     ]
    }
   ],
   "source": [
    "asdf.style??"
   ]
  },
  {
   "cell_type": "code",
   "execution_count": null,
   "metadata": {},
   "outputs": [],
   "source": [
    "meshstyle = asdf.style"
   ]
  },
  {
   "cell_type": "code",
   "execution_count": null,
   "metadata": {},
   "outputs": [
    {
     "data": {
      "text/plain": [
       "<enum 'Kpoints_supported_modes'>"
      ]
     },
     "execution_count": 15,
     "metadata": {},
     "output_type": "execute_result"
    }
   ],
   "source": [
    "type(meshstyle)"
   ]
  },
  {
   "cell_type": "code",
   "execution_count": null,
   "metadata": {},
   "outputs": [],
   "source": [
    "import utils.generic as gen_utils\n",
    "\n",
    "gen_utils.find_and_extract_files_from_tarballs_parallel(parent_dir=parent_dir,\n",
    "                                                        extension=\".tar.gz\",\n",
    "                                                        filenames=[\"INCAR\", \"POTCAR\", \"KPOINTS\", \"CONTCAR\", \"OUTCAR\", \"vasprun.xml\", \"vasp.log\"])"
   ]
  },
  {
   "cell_type": "code",
   "execution_count": null,
   "metadata": {},
   "outputs": [
    {
     "name": "stdout",
     "output_type": "stream",
     "text": [
      "# Processes: 5\n",
      "Processors available: 16\n",
      "CPUs used: 5\n"
     ]
    }
   ],
   "source": [
    "parent_dir = \"/root/personal_python_utilities/utils/tests/vasp_resources\"\n",
    "gen_utils.find_and_extract_files_from_tarballs_parallel(parent_dir=parent_dir,\n",
    "                                                        extension=\".tar.gz\",\n",
    "                                                        filenames=[\"INCAR\", \"POTCAR\", \"KPOINTS\", \"CONTCAR\", \"OUTCAR\", \"vasprun.xml\", \"vasp.log\"])"
   ]
  },
  {
   "cell_type": "code",
   "execution_count": null,
   "metadata": {},
   "outputs": [],
   "source": [
    "import argparse\n",
    "from utils.generic import find_and_compress_directories_parallel\n",
    "import os\n",
    "\n",
    "def main():\n",
    "    parser = argparse.ArgumentParser(description='Find and compress directories based on specified criteria.')\n",
    "    parser.add_argument('directory', metavar='DIR', type=str, help='the directory to operate on')\n",
    "    args = parser.parse_args()\n",
    "\n",
    "    find_and_compress_directories_parallel(\n",
    "        parent_dir=args.directory,\n",
    "        valid_dir_if_filenames=[\"INCAR\", \"POTCAR\"],\n",
    "        exclude_files_from_tarball=[\"CHG\", \"CHGCAR\"],\n",
    "        exclude_filepatterns_from_tarball=[\"AECCAR*\"],\n",
    "        keep_after=True,\n",
    "        files=[\"CHG\", \"CHGCAR\", \"OUTCAR\", \"vasp.log\", \"vasprun.xml\", \"VASP_DDEC_analysis.output\"],\n",
    "        file_patterns=[\"AECCAR*\"],\n",
    "        print_msg=True,\n",
    "        inside_dir=True\n",
    "    )\n",
    "\n",
    "if __name__ == '__main__':\n",
    "    main()\n"
   ]
  },
  {
   "cell_type": "code",
   "execution_count": null,
   "metadata": {},
   "outputs": [],
   "source": [
    "import argparse\n",
    "from utils.generic import find_and_extract_files_from_tarballs_parallel\n",
    "import os\n",
    "\n",
    "def main():\n",
    "    parser = argparse.ArgumentParser(description='Find and extract files from tarballs based on specified criteria.')\n",
    "    parser.add_argument('directory', metavar='DIR', type=str, help='the directory to operate on')\n",
    "    args = parser.parse_args()\n",
    "    find_and_extract_files_from_tarballs_parallel(parent_dir=args.directory,\n",
    "                                                    extension=\".tar.gz\",\n",
    "                                                    filenames=[\"INCAR\", \"POTCAR\", \"KPOINTS\", \"CONTCAR\", \"OUTCAR\", \"vasprun.xml\", \"vasp.log\"])\n",
    "    \n",
    "if __name__ == '__main__':\n",
    "    main()\n"
   ]
  }
 ],
 "metadata": {
  "kernelspec": {
   "display_name": "pyiron",
   "language": "python",
   "name": "python3"
  },
  "language_info": {
   "codemirror_mode": {
    "name": "ipython",
    "version": 3
   },
   "file_extension": ".py",
   "mimetype": "text/x-python",
   "name": "python",
   "nbconvert_exporter": "python",
   "pygments_lexer": "ipython3",
   "version": "3.10.10"
  },
  "orig_nbformat": 4
 },
 "nbformat": 4,
 "nbformat_minor": 2
}
