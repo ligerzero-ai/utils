{
 "cells": [
  {
   "cell_type": "code",
   "execution_count": 1,
   "metadata": {},
   "outputs": [],
   "source": [
    "import sys\n",
    "\n",
    "from custodian.custodian import Custodian\n",
    "from custodian.vasp.handlers import VaspErrorHandler, UnconvergedErrorHandler, NonConvergingErrorHandler, PositiveEnergyErrorHandler\n",
    "from custodian.vasp.jobs import VaspJob\n",
    "\n",
    "output_filename = \"vasp.log\"\n",
    "handlers = [VaspErrorHandler(output_filename=output_filename), UnconvergedErrorHandler(), NonConvergingErrorHandler(), PositiveEnergyErrorHandler()]\n",
    "jobs = [VaspJob(sys.argv[1:], output_file=output_filename, suffix = \".relax_1\", final=False, settings_override=[{\"dict\": \"INCAR\", \"action\": {\"_set\": {\"KSPACING\": 0.5}}}]),\n",
    "        VaspJob(sys.argv[1:], output_file=output_filename, suffix = \".relax_2\", final=False,\n",
    "                settings_override = [{\"file\": \"CONTCAR\", \"action\": {\"_file_copy\": {\"dest\": \"POSCAR\"}}},\n",
    "                    {\"dict\": \"INCAR\", \"action\": {\"_set\": {\"KSPACING\": 0.5, \"EDIFF\": 1E-5, \"EDIFFG\": 1E-4}}}], copy_magmom=True),\n",
    "        VaspJob(sys.argv[1:], output_file=output_filename, suffix = \"\",\n",
    "                settings_override = [{\"dict\": \"INCAR\", \"action\": {\"_set\": {\"NSW\": 0, \"LAECHG\": True, \"LCHARGE\": True, \"NELM\": 240, \"EDIFF\": 1E-5}}},\n",
    "                                     {\"file\": \"CONTCAR\", \"action\": {\"_file_copy\": {\"dest\": \"POSCAR\"}}}])]\n",
    "c = Custodian(handlers, jobs, max_errors=10)\n"
   ]
  },
  {
   "cell_type": "code",
   "execution_count": null,
   "metadata": {},
   "outputs": [],
   "source": []
  }
 ],
 "metadata": {
  "kernelspec": {
   "display_name": "pyiron_workflow",
   "language": "python",
   "name": "python3"
  },
  "language_info": {
   "codemirror_mode": {
    "name": "ipython",
    "version": 3
   },
   "file_extension": ".py",
   "mimetype": "text/x-python",
   "name": "python",
   "nbconvert_exporter": "python",
   "pygments_lexer": "ipython3",
   "version": "3.12.3"
  }
 },
 "nbformat": 4,
 "nbformat_minor": 2
}
